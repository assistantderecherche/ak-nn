{
 "cells": [
  {
   "cell_type": "code",
   "execution_count": 3,
   "id": "c91e37fd",
   "metadata": {},
   "outputs": [
    {
     "name": "stdout",
     "output_type": "stream",
     "text": [
      "{'aa', 'bb'}\n"
     ]
    }
   ],
   "source": [
    "s = set(['aa', 'bb', 'aa'])\n",
    "print(s)"
   ]
  },
  {
   "cell_type": "code",
   "execution_count": 6,
   "id": "f3fbf8b6",
   "metadata": {},
   "outputs": [
    {
     "name": "stdout",
     "output_type": "stream",
     "text": [
      "{'abcdabcd'}\n"
     ]
    }
   ],
   "source": [
    "s1 = set('abcdabcd')\n",
    "print(s1)"
   ]
  },
  {
   "cell_type": "code",
   "execution_count": 8,
   "id": "1717c958",
   "metadata": {},
   "outputs": [
    {
     "name": "stdout",
     "output_type": "stream",
     "text": [
      "{'abcdabcd'}\n"
     ]
    }
   ],
   "source": [
    "s2 = set(['abcdabcd'])\n",
    "print(s1)"
   ]
  },
  {
   "cell_type": "code",
   "execution_count": 26,
   "id": "9fd1e019",
   "metadata": {},
   "outputs": [],
   "source": [
    "import pandas as pd\n",
    "import random as rnd\n",
    "import numpy as np\n",
    "from scipy.stats import pearsonr\n",
    "import pickle"
   ]
  },
  {
   "cell_type": "code",
   "execution_count": 94,
   "id": "98c2e15b",
   "metadata": {},
   "outputs": [],
   "source": [
    "a, b = -.1, -10\n",
    "x = np.random.rand(100)\n",
    "y = a*x+b\n",
    "# print(x)\n",
    "# print(y)"
   ]
  },
  {
   "cell_type": "code",
   "execution_count": 95,
   "id": "21aba91e",
   "metadata": {},
   "outputs": [
    {
     "data": {
      "text/plain": [
       "array([[ 1., -1.],\n",
       "       [-1.,  1.]])"
      ]
     },
     "execution_count": 95,
     "metadata": {},
     "output_type": "execute_result"
    }
   ],
   "source": [
    "np.corrcoef(y,x)"
   ]
  },
  {
   "cell_type": "code",
   "execution_count": 96,
   "id": "0aec9195",
   "metadata": {},
   "outputs": [
    {
     "data": {
      "text/plain": [
       "PearsonRResult(statistic=-1.0, pvalue=0.0)"
      ]
     },
     "execution_count": 96,
     "metadata": {},
     "output_type": "execute_result"
    }
   ],
   "source": [
    "pearsonr(y,x)"
   ]
  },
  {
   "cell_type": "code",
   "execution_count": 112,
   "id": "e163c710",
   "metadata": {},
   "outputs": [],
   "source": [
    "from scipy.signal import correlate"
   ]
  },
  {
   "cell_type": "code",
   "execution_count": 115,
   "id": "a94acb7f",
   "metadata": {},
   "outputs": [
    {
     "name": "stdout",
     "output_type": "stream",
     "text": [
      "[[1. 1. 1.]\n",
      " [1. 1. 1.]]\n"
     ]
    }
   ],
   "source": [
    "N=3\n",
    "x = np.random.rand(N)*np.pi*2\n",
    "v1 = np.ones(2*N).reshape(2,N)\n",
    "v2 = np.ones(2*N).reshape(2,N)\n",
    "print(v1)"
   ]
  },
  {
   "cell_type": "code",
   "execution_count": 116,
   "id": "14c07350",
   "metadata": {},
   "outputs": [
    {
     "data": {
      "text/plain": [
       "array([[1., 2., 3., 2., 1.],\n",
       "       [2., 4., 6., 4., 2.],\n",
       "       [1., 2., 3., 2., 1.]])"
      ]
     },
     "execution_count": 116,
     "metadata": {},
     "output_type": "execute_result"
    }
   ],
   "source": [
    "correlate(v1, v2)"
   ]
  },
  {
   "cell_type": "code",
   "execution_count": 21,
   "id": "a7fcdc91",
   "metadata": {},
   "outputs": [],
   "source": [
    "def it(N=10):\n",
    "    for i in range(N):\n",
    "        yield i"
   ]
  },
  {
   "cell_type": "code",
   "execution_count": 33,
   "id": "c5121bef",
   "metadata": {},
   "outputs": [
    {
     "name": "stdout",
     "output_type": "stream",
     "text": [
      "0\n",
      "1\n",
      "2\n",
      "3\n",
      "4\n",
      "5\n"
     ]
    },
    {
     "ename": "TypeError",
     "evalue": "write() argument must be str, not bytes",
     "output_type": "error",
     "traceback": [
      "\u001b[0;31m---------------------------------------------------------------------------\u001b[0m",
      "\u001b[0;31mTypeError\u001b[0m                                 Traceback (most recent call last)",
      "Cell \u001b[0;32mIn[33], line 10\u001b[0m\n\u001b[1;32m      7\u001b[0m     \u001b[38;5;28mprint\u001b[39m(val)\n\u001b[1;32m      9\u001b[0m \u001b[38;5;28;01mwith\u001b[39;00m \u001b[38;5;28mopen\u001b[39m(\u001b[38;5;124m'\u001b[39m\u001b[38;5;124mx.pickle\u001b[39m\u001b[38;5;124m'\u001b[39m, \u001b[38;5;124m'\u001b[39m\u001b[38;5;124mw\u001b[39m\u001b[38;5;124m'\u001b[39m) \u001b[38;5;28;01mas\u001b[39;00m handle: \n\u001b[0;32m---> 10\u001b[0m     \u001b[43mpickle\u001b[49m\u001b[38;5;241;43m.\u001b[39;49m\u001b[43mdump\u001b[49m\u001b[43m(\u001b[49m\u001b[38;5;28;43mstr\u001b[39;49m\u001b[43m(\u001b[49m\u001b[43mx\u001b[49m\u001b[43m)\u001b[49m\u001b[43m,\u001b[49m\u001b[43m \u001b[49m\u001b[43mhandle\u001b[49m\u001b[43m,\u001b[49m\u001b[43m \u001b[49m\u001b[43mprotocol\u001b[49m\u001b[38;5;241;43m=\u001b[39;49m\u001b[43mpickle\u001b[49m\u001b[38;5;241;43m.\u001b[39;49m\u001b[43mHIGHEST_PROTOCOL\u001b[49m\u001b[43m)\u001b[49m\n",
      "\u001b[0;31mTypeError\u001b[0m: write() argument must be str, not bytes"
     ]
    }
   ],
   "source": [
    "x=it()\n",
    "for i in range(10):\n",
    "    val = x.__next__()\n",
    "    if i > 5:\n",
    "        jt = it\n",
    "        break\n",
    "    print(val)\n",
    "\n",
    "with open('x.pickle', 'w') as handle: \n",
    "    pickle.dump(str(x), handle, protocol=pickle.HIGHEST_PROTOCOL)о"
   ]
  },
  {
   "cell_type": "code",
   "execution_count": 25,
   "id": "616535bb",
   "metadata": {},
   "outputs": [],
   "source": [
    "for i in range(2):\n",
    "    try:    \n",
    "        val = x.__next__()\n",
    "    except:\n",
    "        break\n",
    "    print(val)"
   ]
  },
  {
   "cell_type": "code",
   "execution_count": 41,
   "id": "c0bc7ab7",
   "metadata": {},
   "outputs": [
    {
     "name": "stdout",
     "output_type": "stream",
     "text": [
      "I warned you\n"
     ]
    }
   ],
   "source": [
    "warn_level = True\n",
    "\n",
    "def print_level(*args, **kwargs):\n",
    "    \n",
    "    def wrapper(func):\n",
    "        func(kwargs['warn'])\n",
    "        \n",
    "    return wrapper\n",
    "\n",
    "@print_level(warn = warn_level)\n",
    "def warned_you(warn):\n",
    "    if warn:\n",
    "        print('I warned you')\n"
   ]
  },
  {
   "cell_type": "code",
   "execution_count": 50,
   "id": "73b822fe",
   "metadata": {},
   "outputs": [],
   "source": [
    "import functools\n",
    "def log_decorator(log_enabled):\n",
    "    def actual_decorator(func):\n",
    "        @functools.wraps(func)\n",
    "        def wrapper(*args, **kwargs):\n",
    "            if log_enabled:\n",
    "                print(\"Calling Function: \" + func.__name__)\n",
    "            return func(*args, **kwargs)\n",
    "        return wrapper\n",
    "    return actual_decorator"
   ]
  },
  {
   "cell_type": "code",
   "execution_count": 59,
   "id": "5ab021fc",
   "metadata": {},
   "outputs": [],
   "source": [
    "enable_log=True\n",
    "@log_decorator(enable_log)\n",
    "def f(x):\n",
    "    return x+1\n",
    "\n",
    "@log_decorator(enable_log)\n",
    "def g(x):\n",
    "    return x+1"
   ]
  },
  {
   "cell_type": "code",
   "execution_count": 65,
   "id": "3a572d2b",
   "metadata": {},
   "outputs": [
    {
     "name": "stdout",
     "output_type": "stream",
     "text": [
      "Calling Function: f\n",
      "Calling Function: g\n",
      "Calling Function: f\n",
      "Calling Function: g\n"
     ]
    },
    {
     "data": {
      "text/plain": [
       "101"
      ]
     },
     "execution_count": 65,
     "metadata": {},
     "output_type": "execute_result"
    }
   ],
   "source": [
    "f(4)\n",
    "g(100)\n",
    "\n",
    "# need to change it in the definition:\n",
    "enable_log=False\n",
    "f(4)\n",
    "g(100)"
   ]
  }
 ],
 "metadata": {
  "kernelspec": {
   "display_name": "Python 3 (ipykernel)",
   "language": "python",
   "name": "python3"
  },
  "language_info": {
   "codemirror_mode": {
    "name": "ipython",
    "version": 3
   },
   "file_extension": ".py",
   "mimetype": "text/x-python",
   "name": "python",
   "nbconvert_exporter": "python",
   "pygments_lexer": "ipython3",
   "version": "3.9.14"
  }
 },
 "nbformat": 4,
 "nbformat_minor": 5
}
