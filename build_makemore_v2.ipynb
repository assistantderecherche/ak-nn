{
 "cells": [
  {
   "cell_type": "code",
   "execution_count": 164,
   "id": "87175946",
   "metadata": {},
   "outputs": [],
   "source": [
    "import torch\n",
    "import torch.nn.functional as F\n",
    "import matplotlib.pyplot as plt\n",
    "%matplotlib inline"
   ]
  },
  {
   "cell_type": "code",
   "execution_count": 165,
   "id": "d2d6e9f2",
   "metadata": {},
   "outputs": [
    {
     "name": "stdout",
     "output_type": "stream",
     "text": [
      "['emma', 'olivia', 'ava', 'isabella', 'sophia', 'charlotte', 'mia', 'amelia']\n",
      "32033\n"
     ]
    }
   ],
   "source": [
    "with open('names.txt','r') as h:\n",
    "    words = [w.rstrip() for w in h.readlines()]\n",
    "\n",
    "print(words[:8])\n",
    "print(len(words))"
   ]
  },
  {
   "cell_type": "code",
   "execution_count": 166,
   "id": "b1116b66",
   "metadata": {},
   "outputs": [
    {
     "name": "stdout",
     "output_type": "stream",
     "text": [
      "\n",
      "Total characters: N=27\n",
      "\n",
      "{0: '.', 1: 'a', 2: 'b', 3: 'c', 4: 'd', 5: 'e', 6: 'f', 7: 'g', 8: 'h', 9: 'i', 10: 'j', 11: 'k', 12: 'l', 13: 'm', 14: 'n', 15: 'o', 16: 'p', 17: 'q', 18: 'r', 19: 's', 20: 't', 21: 'u', 22: 'v', 23: 'w', 24: 'x', 25: 'y', 26: 'z'} \n",
      "\n",
      "1\n",
      "a\n"
     ]
    }
   ],
   "source": [
    "chars = sorted(set(''.join(words)))\n",
    "chars = ['.']+chars\n",
    "\n",
    "#\n",
    "# same result as two rows above as '.' is less than any [a-z] or [0-9]\n",
    "#chars = sorted(set('.'.join(words)))\n",
    "\n",
    "# same:\n",
    "#chars = ['.']+[*chars]\n",
    "\n",
    "N = len(chars)\n",
    "print(f\"\\nTotal characters: {N=}\\n\")\n",
    "\n",
    "stoi = { s:i for i,s in enumerate(chars)}\n",
    "itos = { i:s for s,i in stoi.items()}\n",
    "\n",
    "print(itos,'\\n')\n",
    "\n",
    "encode = lambda c : stoi[c]\n",
    "decode = lambda i : itos[i]\n",
    "\n",
    "print(encode('a'))\n",
    "print(decode(1))"
   ]
  },
  {
   "cell_type": "code",
   "execution_count": 167,
   "id": "5bac0435",
   "metadata": {},
   "outputs": [
    {
     "name": "stdout",
     "output_type": "stream",
     "text": [
      "emma\n",
      "... ---> e\n",
      "..e ---> m\n",
      ".em ---> m\n",
      "emm ---> a\n",
      "mma ---> .\n",
      "olivia\n",
      "... ---> o\n",
      "..o ---> l\n",
      ".ol ---> i\n",
      "oli ---> v\n",
      "liv ---> i\n",
      "ivi ---> a\n",
      "via ---> .\n",
      "ava\n",
      "... ---> a\n",
      "..a ---> v\n",
      ".av ---> a\n",
      "ava ---> .\n",
      "isabella\n",
      "... ---> i\n",
      "..i ---> s\n",
      ".is ---> a\n",
      "isa ---> b\n",
      "sab ---> e\n",
      "abe ---> l\n",
      "bel ---> l\n",
      "ell ---> a\n",
      "lla ---> .\n",
      "sophia\n",
      "... ---> s\n",
      "..s ---> o\n",
      ".so ---> p\n",
      "sop ---> h\n",
      "oph ---> i\n",
      "phi ---> a\n",
      "hia ---> .\n"
     ]
    }
   ],
   "source": [
    "X, Y = [], []\n",
    "\n",
    "block_size = 3\n",
    "for w in words[:5]:\n",
    "    print(w)\n",
    "    context = [0] * block_size\n",
    "    for ch in w + '.':\n",
    "        ix = encode(ch)\n",
    "        X.append(context)\n",
    "        Y.append(ix)\n",
    "        print(''.join(decode(i) for i in context), '--->', decode(ix))\n",
    "        context = context[1:] + [ix]\n",
    "\n",
    "        \n",
    "X = torch.tensor(X)\n",
    "Y = torch.tensor(Y)"
   ]
  },
  {
   "cell_type": "code",
   "execution_count": 168,
   "id": "fda784b0",
   "metadata": {},
   "outputs": [
    {
     "data": {
      "text/plain": [
       "(torch.int64, torch.Size([32, 3]), torch.int64, torch.Size([32]))"
      ]
     },
     "execution_count": 168,
     "metadata": {},
     "output_type": "execute_result"
    }
   ],
   "source": [
    "X.dtype, X.shape, Y.dtype, Y.shape"
   ]
  },
  {
   "cell_type": "code",
   "execution_count": 169,
   "id": "0db4e84c",
   "metadata": {},
   "outputs": [
    {
     "data": {
      "text/plain": [
       "(tensor([[ 0,  0,  0],\n",
       "         [ 0,  0,  5],\n",
       "         [ 0,  5, 13],\n",
       "         [ 5, 13, 13],\n",
       "         [13, 13,  1],\n",
       "         [ 0,  0,  0],\n",
       "         [ 0,  0, 15],\n",
       "         [ 0, 15, 12],\n",
       "         [15, 12,  9],\n",
       "         [12,  9, 22],\n",
       "         [ 9, 22,  9],\n",
       "         [22,  9,  1],\n",
       "         [ 0,  0,  0],\n",
       "         [ 0,  0,  1],\n",
       "         [ 0,  1, 22],\n",
       "         [ 1, 22,  1],\n",
       "         [ 0,  0,  0],\n",
       "         [ 0,  0,  9],\n",
       "         [ 0,  9, 19],\n",
       "         [ 9, 19,  1],\n",
       "         [19,  1,  2],\n",
       "         [ 1,  2,  5],\n",
       "         [ 2,  5, 12],\n",
       "         [ 5, 12, 12],\n",
       "         [12, 12,  1],\n",
       "         [ 0,  0,  0],\n",
       "         [ 0,  0, 19],\n",
       "         [ 0, 19, 15],\n",
       "         [19, 15, 16],\n",
       "         [15, 16,  8],\n",
       "         [16,  8,  9],\n",
       "         [ 8,  9,  1]]),\n",
       " tensor([ 5, 13, 13,  1,  0, 15, 12,  9, 22,  9,  1,  0,  1, 22,  1,  0,  9, 19,\n",
       "          1,  2,  5, 12, 12,  1,  0, 19, 15, 16,  8,  9,  1,  0]))"
      ]
     },
     "execution_count": 169,
     "metadata": {},
     "output_type": "execute_result"
    }
   ],
   "source": [
    "X, Y"
   ]
  },
  {
   "cell_type": "code",
   "execution_count": 170,
   "id": "8e3b3fd1",
   "metadata": {},
   "outputs": [],
   "source": [
    "torch.manual_seed(123)\n",
    "C = torch .randn(27, 2)"
   ]
  },
  {
   "cell_type": "code",
   "execution_count": 171,
   "id": "097ba593",
   "metadata": {},
   "outputs": [
    {
     "name": "stdout",
     "output_type": "stream",
     "text": [
      "[ 0.6983519 -1.4097229]\n",
      "[0.17937961 1.895148  ] \n",
      "\n",
      "[[ 0.6983519  -1.4097229 ]\n",
      " [ 0.17937961  1.895148  ]] \n",
      "\n",
      "[[ 0.6983519  -1.4097229 ]\n",
      " [ 0.17937961  1.895148  ]]\n"
     ]
    }
   ],
   "source": [
    "print(C[5].numpy())\n",
    "print(C[6].numpy(), '\\n')\n",
    "print(C[[5,6]].numpy(), '\\n')\n",
    "print(C[torch.tensor([5,6])].numpy())"
   ]
  },
  {
   "cell_type": "code",
   "execution_count": 172,
   "id": "ac74d70d",
   "metadata": {},
   "outputs": [
    {
     "data": {
      "text/plain": [
       "tensor([ 0.6984, -1.4097])"
      ]
     },
     "execution_count": 172,
     "metadata": {},
     "output_type": "execute_result"
    }
   ],
   "source": [
    "F.one_hot(torch.tensor(5), num_classes = 27).float() @ C"
   ]
  },
  {
   "cell_type": "code",
   "execution_count": 173,
   "id": "14870c2f",
   "metadata": {},
   "outputs": [
    {
     "name": "stdout",
     "output_type": "stream",
     "text": [
      "tensor([[ 0.6984, -1.4097],\n",
      "        [ 0.1794,  1.8951]])\n"
     ]
    }
   ],
   "source": [
    "print(torch.stack((C[5], C[6]), dim=0))"
   ]
  },
  {
   "cell_type": "code",
   "execution_count": 174,
   "id": "8722c400",
   "metadata": {},
   "outputs": [
    {
     "name": "stdout",
     "output_type": "stream",
     "text": [
      "True\n"
     ]
    },
    {
     "data": {
      "text/plain": [
       "tensor([[True, True],\n",
       "        [True, True]])"
      ]
     },
     "execution_count": 174,
     "metadata": {},
     "output_type": "execute_result"
    }
   ],
   "source": [
    "T56s = torch.stack((C[5], C[6]), dim=0) \n",
    "T56 = C[[5,6]]\n",
    "print(torch.equal(T56,T56s))\n",
    "T56 == T56s"
   ]
  },
  {
   "cell_type": "code",
   "execution_count": 175,
   "id": "9378bf3c",
   "metadata": {},
   "outputs": [
    {
     "name": "stdout",
     "output_type": "stream",
     "text": [
      "tensor([[[ 0.3374, -0.1778],\n",
      "         [ 0.3374, -0.1778],\n",
      "         [ 0.6984, -1.4097]],\n",
      "\n",
      "        [[ 0.3374, -0.1778],\n",
      "         [ 0.6984, -1.4097],\n",
      "         [ 0.9666, -1.1481]]])\n"
     ]
    }
   ],
   "source": [
    "# \n",
    "# just index by tensor of indices!!! \n",
    "#\n",
    "print(C[X][[1,2]])\n",
    "# \n",
    "# that was just the first two rows of C[X] to keep it short\n",
    "#"
   ]
  },
  {
   "cell_type": "code",
   "execution_count": 176,
   "id": "a65b6340",
   "metadata": {},
   "outputs": [
    {
     "name": "stdout",
     "output_type": "stream",
     "text": [
      "torch.Size([32, 3, 2])\n",
      "torch.Size([32, 3])\n"
     ]
    }
   ],
   "source": [
    "print(C[X].shape)\n",
    "#\n",
    "# a bunch of 2-d vector embeddings indexed by X\n",
    "#\n",
    "print(X.shape)"
   ]
  },
  {
   "cell_type": "code",
   "execution_count": 177,
   "id": "bd870e42",
   "metadata": {},
   "outputs": [
    {
     "data": {
      "text/plain": [
       "torch.Size([32, 3, 2])"
      ]
     },
     "execution_count": 177,
     "metadata": {},
     "output_type": "execute_result"
    }
   ],
   "source": [
    "emb = C[X]\n",
    "emb.shape"
   ]
  },
  {
   "cell_type": "code",
   "execution_count": 178,
   "id": "2c146663",
   "metadata": {},
   "outputs": [
    {
     "data": {
      "text/plain": [
       "3"
      ]
     },
     "execution_count": 178,
     "metadata": {},
     "output_type": "execute_result"
    }
   ],
   "source": [
    "len(torch.unbind(emb,1)) # torch.unbind(emb, dim=1)"
   ]
  },
  {
   "cell_type": "code",
   "execution_count": 179,
   "id": "dee2d13b",
   "metadata": {},
   "outputs": [
    {
     "name": "stdout",
     "output_type": "stream",
     "text": [
      "tensor([[ 0,  1,  2,  3],\n",
      "        [ 4,  5,  6,  7],\n",
      "        [ 8,  9, 10, 11]])\n",
      "torch.Size([3, 4])\n",
      "(tensor([0, 1, 2, 3]), tensor([4, 5, 6, 7]), tensor([ 8,  9, 10, 11]))\n"
     ]
    }
   ],
   "source": [
    "xx = torch.tensor(range(12)).reshape(3,4)\n",
    "print(xx)\n",
    "print(xx.shape)\n",
    "print(torch.unbind(xx, dim=0))"
   ]
  },
  {
   "cell_type": "code",
   "execution_count": 180,
   "id": "7f57c25f",
   "metadata": {},
   "outputs": [
    {
     "name": "stdout",
     "output_type": "stream",
     "text": [
      "tensor([[[ 0,  1,  2,  3,  4],\n",
      "         [ 5,  6,  7,  8,  9],\n",
      "         [10, 11, 12, 13, 14],\n",
      "         [15, 16, 17, 18, 19]],\n",
      "\n",
      "        [[20, 21, 22, 23, 24],\n",
      "         [25, 26, 27, 28, 29],\n",
      "         [30, 31, 32, 33, 34],\n",
      "         [35, 36, 37, 38, 39]],\n",
      "\n",
      "        [[40, 41, 42, 43, 44],\n",
      "         [45, 46, 47, 48, 49],\n",
      "         [50, 51, 52, 53, 54],\n",
      "         [55, 56, 57, 58, 59]]])\n",
      "torch.Size([3, 4, 5]) \n",
      "\n"
     ]
    }
   ],
   "source": [
    "xx = torch.tensor(range(60)).reshape(3,4,5)\n",
    "print(xx)\n",
    "print(xx.shape, '\\n')"
   ]
  },
  {
   "cell_type": "code",
   "execution_count": 181,
   "id": "20538dc2",
   "metadata": {},
   "outputs": [
    {
     "name": "stdout",
     "output_type": "stream",
     "text": [
      "tensor([[ 0,  1,  2,  3,  4],\n",
      "        [20, 21, 22, 23, 24],\n",
      "        [40, 41, 42, 43, 44]])\n"
     ]
    }
   ],
   "source": [
    "print(torch.unbind(xx, dim=1)[0])"
   ]
  },
  {
   "cell_type": "code",
   "execution_count": 182,
   "id": "b7d7ed95",
   "metadata": {},
   "outputs": [
    {
     "data": {
      "text/plain": [
       "tensor([[ 0,  1,  2,  3,  4],\n",
       "        [20, 21, 22, 23, 24],\n",
       "        [40, 41, 42, 43, 44]])"
      ]
     },
     "execution_count": 182,
     "metadata": {},
     "output_type": "execute_result"
    }
   ],
   "source": [
    "xx[:,0,:]"
   ]
  },
  {
   "cell_type": "code",
   "execution_count": 183,
   "id": "60f83fde",
   "metadata": {},
   "outputs": [
    {
     "data": {
      "text/plain": [
       "tensor([[ 5,  6,  7,  8,  9],\n",
       "        [25, 26, 27, 28, 29],\n",
       "        [45, 46, 47, 48, 49]])"
      ]
     },
     "execution_count": 183,
     "metadata": {},
     "output_type": "execute_result"
    }
   ],
   "source": [
    "torch.unbind(xx, dim=1)[1]"
   ]
  },
  {
   "cell_type": "code",
   "execution_count": 184,
   "id": "c8a90f8d",
   "metadata": {},
   "outputs": [
    {
     "data": {
      "text/plain": [
       "tensor([[ 5,  6,  7,  8,  9],\n",
       "        [25, 26, 27, 28, 29],\n",
       "        [45, 46, 47, 48, 49]])"
      ]
     },
     "execution_count": 184,
     "metadata": {},
     "output_type": "execute_result"
    }
   ],
   "source": [
    "xx[:,1,:]"
   ]
  },
  {
   "cell_type": "code",
   "execution_count": 185,
   "id": "8b812407",
   "metadata": {},
   "outputs": [
    {
     "data": {
      "text/plain": [
       "torch.Size([32, 6])"
      ]
     },
     "execution_count": 185,
     "metadata": {},
     "output_type": "execute_result"
    }
   ],
   "source": [
    "#\n",
    "# inefficient compared to view as cat will allocate new storage\n",
    "#\n",
    "torch.cat(torch.unbind(emb, dim=1), dim=1).shape"
   ]
  },
  {
   "cell_type": "code",
   "execution_count": 186,
   "id": "92292bd3",
   "metadata": {},
   "outputs": [],
   "source": [
    "W1 = torch.randn((6,100))\n",
    "\n",
    "#\n",
    "# bias vector (1 per neuron)\n",
    "#\n",
    "b1 = torch.randn(100)"
   ]
  },
  {
   "cell_type": "code",
   "execution_count": 187,
   "id": "62eef3c0",
   "metadata": {},
   "outputs": [
    {
     "data": {
      "text/plain": [
       "tensor([[ 0.3374, -0.1778,  0.3374, -0.1778,  0.3374, -0.1778],\n",
       "        [ 0.3374, -0.1778,  0.3374, -0.1778,  0.6984, -1.4097],\n",
       "        [ 0.3374, -0.1778,  0.6984, -1.4097,  0.9666, -1.1481],\n",
       "        [ 0.6984, -1.4097,  0.9666, -1.1481,  0.9666, -1.1481],\n",
       "        [ 0.9666, -1.1481,  0.9666, -1.1481, -0.3035, -0.5880],\n",
       "        [ 0.3374, -0.1778,  0.3374, -0.1778,  0.3374, -0.1778],\n",
       "        [ 0.3374, -0.1778,  0.3374, -0.1778, -0.6315, -2.8400],\n",
       "        [ 0.3374, -0.1778, -0.6315, -2.8400,  0.4965, -1.5723],\n",
       "        [-0.6315, -2.8400,  0.4965, -1.5723, -0.1690,  0.9178],\n",
       "        [ 0.4965, -1.5723, -0.1690,  0.9178,  1.3111, -0.2199],\n",
       "        [-0.1690,  0.9178,  1.3111, -0.2199, -0.1690,  0.9178],\n",
       "        [ 1.3111, -0.2199, -0.1690,  0.9178, -0.3035, -0.5880],\n",
       "        [ 0.3374, -0.1778,  0.3374, -0.1778,  0.3374, -0.1778],\n",
       "        [ 0.3374, -0.1778,  0.3374, -0.1778, -0.3035, -0.5880],\n",
       "        [ 0.3374, -0.1778, -0.3035, -0.5880,  1.3111, -0.2199],\n",
       "        [-0.3035, -0.5880,  1.3111, -0.2199, -0.3035, -0.5880],\n",
       "        [ 0.3374, -0.1778,  0.3374, -0.1778,  0.3374, -0.1778],\n",
       "        [ 0.3374, -0.1778,  0.3374, -0.1778, -0.1690,  0.9178],\n",
       "        [ 0.3374, -0.1778, -0.1690,  0.9178,  1.0533,  0.1388],\n",
       "        [-0.1690,  0.9178,  1.0533,  0.1388, -0.3035, -0.5880],\n",
       "        [ 1.0533,  0.1388, -0.3035, -0.5880,  0.3486,  0.6603],\n",
       "        [-0.3035, -0.5880,  0.3486,  0.6603,  0.6984, -1.4097],\n",
       "        [ 0.3486,  0.6603,  0.6984, -1.4097,  0.4965, -1.5723],\n",
       "        [ 0.6984, -1.4097,  0.4965, -1.5723,  0.4965, -1.5723],\n",
       "        [ 0.4965, -1.5723,  0.4965, -1.5723, -0.3035, -0.5880],\n",
       "        [ 0.3374, -0.1778,  0.3374, -0.1778,  0.3374, -0.1778],\n",
       "        [ 0.3374, -0.1778,  0.3374, -0.1778,  1.0533,  0.1388],\n",
       "        [ 0.3374, -0.1778,  1.0533,  0.1388, -0.6315, -2.8400],\n",
       "        [ 1.0533,  0.1388, -0.6315, -2.8400, -1.3250,  0.1784],\n",
       "        [-0.6315, -2.8400, -1.3250,  0.1784, -0.0770, -1.0205],\n",
       "        [-1.3250,  0.1784, -0.0770, -1.0205, -0.1690,  0.9178],\n",
       "        [-0.0770, -1.0205, -0.1690,  0.9178, -0.3035, -0.5880]])"
      ]
     },
     "execution_count": 187,
     "metadata": {},
     "output_type": "execute_result"
    }
   ],
   "source": [
    "emb.view((emb.shape[0],6))\n",
    "emb.view(-1,6)"
   ]
  },
  {
   "cell_type": "code",
   "execution_count": 188,
   "id": "7f8f98cb",
   "metadata": {},
   "outputs": [
    {
     "data": {
      "text/plain": [
       "torch.Size([32, 100])"
      ]
     },
     "execution_count": 188,
     "metadata": {},
     "output_type": "execute_result"
    }
   ],
   "source": [
    "h = torch.tanh(emb.view((emb.shape[0],6)) @ W1 + b1)\n",
    "h.shape"
   ]
  },
  {
   "cell_type": "code",
   "execution_count": 189,
   "id": "05b77605",
   "metadata": {},
   "outputs": [],
   "source": [
    "W2 = torch.randn(100,27)\n",
    "b2 = torch.randn(27)"
   ]
  },
  {
   "cell_type": "code",
   "execution_count": 190,
   "id": "d3096c1b",
   "metadata": {},
   "outputs": [
    {
     "data": {
      "text/plain": [
       "torch.Size([32, 27])"
      ]
     },
     "execution_count": 190,
     "metadata": {},
     "output_type": "execute_result"
    }
   ],
   "source": [
    "logits = h @ W2 + b2\n",
    "#\n",
    "#  number of samples times number of outcomes (27 letters)\n",
    "#\n",
    "logits.shape"
   ]
  },
  {
   "cell_type": "code",
   "execution_count": 191,
   "id": "39cae816",
   "metadata": {},
   "outputs": [
    {
     "name": "stdout",
     "output_type": "stream",
     "text": [
      "torch.Size([32, 27])\n",
      "tensor(1.0000)\n"
     ]
    }
   ],
   "source": [
    "#\n",
    "# variant:\n",
    "#\n",
    "#counts1 = torch.exp(logits)\n",
    "counts = logits.exp()\n",
    "counts = counts/torch.sum(counts, dim=1, keepdim=True)\n",
    "print(counts.shape)\n",
    "print(counts[0].sum())"
   ]
  },
  {
   "cell_type": "code",
   "execution_count": 192,
   "id": "2d3bbf5a",
   "metadata": {},
   "outputs": [
    {
     "data": {
      "text/plain": [
       "tensor([6.2853e-04, 1.7430e-11, 1.2537e-08, 9.1832e-10, 1.0705e-03, 1.4901e-06,\n",
       "        2.5817e-11, 1.1903e-07, 4.1851e-07, 3.1531e-17, 2.7315e-10, 4.5835e-09,\n",
       "        1.5925e-10, 4.1808e-06, 2.5429e-07, 6.8290e-02, 8.1018e-11, 6.5253e-05,\n",
       "        3.3588e-10, 4.7065e-04, 3.8369e-10, 3.2624e-21, 1.2444e-07, 5.5174e-08,\n",
       "        1.5604e-05, 1.6026e-04, 1.1157e-08, 3.3036e-08, 8.0063e-07, 4.7687e-11,\n",
       "        4.5782e-05, 1.5546e-10])"
      ]
     },
     "execution_count": 192,
     "metadata": {},
     "output_type": "execute_result"
    }
   ],
   "source": [
    "counts[torch.arange(32), Y]"
   ]
  },
  {
   "cell_type": "code",
   "execution_count": 193,
   "id": "d1ef63a2",
   "metadata": {},
   "outputs": [
    {
     "data": {
      "text/plain": [
       "tensor([9.9974e-01, 1.4941e-09])"
      ]
     },
     "execution_count": 193,
     "metadata": {},
     "output_type": "execute_result"
    }
   ],
   "source": [
    "#\n",
    "#example of indexing:\n",
    "#\n",
    "counts[[1,2],[3,4]]"
   ]
  },
  {
   "cell_type": "code",
   "execution_count": 194,
   "id": "5b8cd68c",
   "metadata": {},
   "outputs": [
    {
     "name": "stdout",
     "output_type": "stream",
     "text": [
      "tensor(17.7495)\n"
     ]
    }
   ],
   "source": [
    "loss = -counts[torch.arange(32), Y].log().mean()\n",
    "print(loss)"
   ]
  },
  {
   "cell_type": "code",
   "execution_count": 195,
   "id": "0c928ee8",
   "metadata": {},
   "outputs": [],
   "source": [
    "g = torch.Generator().manual_seed(2147483647)\n",
    "\n",
    "C = torch.randn((N, 2), generator=g)\n",
    "\n",
    "W1 = torch.randn((6, 100), generator=g)\n",
    "b1 = torch.randn(100, generator=g)\n",
    "\n",
    "W2 = torch.randn((100, N), generator=g)\n",
    "b2 = torch.randn(N, generator=g)\n",
    "\n",
    "parameters = [C, W1, b1, W2, b2]\n",
    "for p in parameters:\n",
    "    p.requires_grad = True"
   ]
  },
  {
   "cell_type": "code",
   "execution_count": 196,
   "id": "6b4d2abe",
   "metadata": {},
   "outputs": [
    {
     "name": "stdout",
     "output_type": "stream",
     "text": [
      "\n",
      "nsamples = 32\n",
      "\n",
      "totalParam = 3481\n",
      "\n"
     ]
    }
   ],
   "source": [
    "nsamples = len(Y)\n",
    "print(f\"\\n{nsamples = }\\n\")\n",
    "totalParam = sum(p.nelement() for p in parameters)\n",
    "print(f\"{totalParam = }\\n\")"
   ]
  },
  {
   "cell_type": "code",
   "execution_count": 197,
   "id": "1bc92b45",
   "metadata": {},
   "outputs": [
    {
     "name": "stdout",
     "output_type": "stream",
     "text": [
      "\n",
      "loss = tensor(17.7697, grad_fn=<NegBackward0>)\n"
     ]
    }
   ],
   "source": [
    "# embed X into the embedding space\n",
    "emb = C[X]\n",
    "\n",
    "# layer 1 (hidden) \n",
    "h = torch.tanh(emb.view(-1, 6) @ W1 + b1)\n",
    "#print(f\"{h.shape = }\")\n",
    "\n",
    "# output layer\n",
    "prob = F.softmax(h @ W2 + b2, dim=1)\n",
    "\n",
    "# log-loss\n",
    "loss = -prob[torch.arange(nsamples), Y].log().mean()\n",
    "print(f\"\\n{loss = }\")"
   ]
  },
  {
   "cell_type": "code",
   "execution_count": 198,
   "id": "6ab61ee4",
   "metadata": {},
   "outputs": [],
   "source": [
    "#\n",
    "# More like the original:\n",
    "#\n",
    "# emb = C[X]\n",
    "# h = torch.tanh(emb.view(-1, 6) @ W1 + b1)\n",
    "# logits = h @ W2 + b2\n",
    "# counts = logits.exp()\n",
    "# prob = counts/torch.sum(counts, dim=1, keepdim=True)\n",
    "# nsamples = len(Y)\n",
    "# loss = -prob[torch.arange(nsamples), Y].log().mean()\n",
    "# print(f\"{loss = }\")\n"
   ]
  },
  {
   "cell_type": "code",
   "execution_count": 199,
   "id": "a08e0c52",
   "metadata": {},
   "outputs": [
    {
     "name": "stdout",
     "output_type": "stream",
     "text": [
      "loss = tensor(17.7697, grad_fn=<NllLossBackward0>)\n"
     ]
    }
   ],
   "source": [
    "emb = C[X]\n",
    "h = torch.tanh(emb.view(-1, 6) @ W1 + b1)\n",
    "logits = h @ W2 + b2\n",
    "loss = F.cross_entropy(logits, Y)\n",
    "print(f\"{loss = }\")"
   ]
  },
  {
   "cell_type": "code",
   "execution_count": 200,
   "id": "c0984f34",
   "metadata": {},
   "outputs": [
    {
     "data": {
      "text/plain": [
       "tensor([1.5213e-14, 1.2830e-12, 1.9647e-08, 3.1758e-10, 5.6763e-12, 1.0823e-10,\n",
       "        1.8821e-14, 1.1087e-08, 1.6134e-09, 2.1917e-03, 5.3863e-08, 3.1970e-04,\n",
       "        2.0283e-10, 3.5710e-11, 6.2336e-07, 5.1704e-07, 1.4206e-01, 9.5657e-09,\n",
       "        2.0670e-09, 2.5181e-02, 7.6846e-05, 2.8706e-12, 1.6961e-09, 5.6464e-15,\n",
       "        4.4656e-03, 2.6851e-09, 3.5864e-05, 2.3389e-04, 1.6890e-09, 9.5614e-01,\n",
       "        9.7404e-10, 2.1230e-12], grad_fn=<IndexBackward0>)"
      ]
     },
     "execution_count": 200,
     "metadata": {},
     "output_type": "execute_result"
    }
   ],
   "source": [
    "prob[torch.arange(nsamples), Y]"
   ]
  },
  {
   "cell_type": "code",
   "execution_count": 201,
   "id": "519b548b",
   "metadata": {},
   "outputs": [
    {
     "name": "stdout",
     "output_type": "stream",
     "text": [
      "step = 0, loss = 17.76971435546875\n",
      "step = 30, loss = 0.6320147514343262\n",
      "step = 60, loss = 0.2750471830368042\n",
      "step = 90, loss = 0.27505427598953247\n",
      "step = 120, loss = 0.31967267394065857\n",
      "step = 150, loss = 1.8348438739776611\n",
      "step = 180, loss = 4.616419315338135\n",
      "step = 210, loss = 10.78406810760498\n",
      "step = 240, loss = 13.907838821411133\n",
      "step = 270, loss = 25.122119903564453\n",
      "loss = 45.83367156982422\n"
     ]
    }
   ],
   "source": [
    "#\n",
    "#  Apparently not setting grad to None can cause divergence:\n",
    "#\n",
    "g = torch.Generator().manual_seed(2147483647)\n",
    "\n",
    "C = torch.randn((N, 2), generator=g)\n",
    "\n",
    "W1 = torch.randn((6, 100), generator=g)\n",
    "b1 = torch.randn(100, generator=g)\n",
    "\n",
    "W2 = torch.randn((100, N), generator=g)\n",
    "b2 = torch.randn(N, generator=g)\n",
    "\n",
    "parameters = [C, W1, b1, W2, b2]\n",
    "for p in parameters:\n",
    "    p.requires_grad = True\n",
    "\n",
    "Steps = 300\n",
    "for step in range(Steps):\n",
    "    emb = C[X]\n",
    "    h = torch.tanh(emb.view(-1, 6) @ W1 + b1)\n",
    "    logits = h @ W2 + b2\n",
    "    loss = F.cross_entropy(logits, Y)\n",
    "    \n",
    "#     for p in parameters:\n",
    "#         p.grad = None\n",
    "        \n",
    "    loss.backward()\n",
    "    \n",
    "    if step % int(Steps/10) == 0:\n",
    "        print(f\"{step = }, loss = {loss.item()}\")\n",
    "\n",
    "    for p in parameters:\n",
    "        p.data -= 0.1*p.grad\n",
    "\n",
    "print(f\"loss = {loss.item()}\")"
   ]
  },
  {
   "cell_type": "code",
   "execution_count": 202,
   "id": "19ba392d",
   "metadata": {},
   "outputs": [
    {
     "name": "stdout",
     "output_type": "stream",
     "text": [
      "step = 0, loss = 17.76971435546875\n",
      "step = 30, loss = 1.1367990970611572\n",
      "step = 60, loss = 0.43213313817977905\n",
      "step = 90, loss = 0.34906232357025146\n",
      "step = 120, loss = 0.31282925605773926\n",
      "step = 150, loss = 0.29326295852661133\n",
      "step = 180, loss = 0.28327125310897827\n",
      "step = 210, loss = 0.2772060036659241\n",
      "step = 240, loss = 0.27310600876808167\n",
      "step = 270, loss = 0.2701391577720642\n",
      "loss = 0.2679549753665924\n"
     ]
    }
   ],
   "source": [
    "g = torch.Generator().manual_seed(2147483647)\n",
    "\n",
    "C = torch.randn((N, 2), generator=g)\n",
    "\n",
    "W1 = torch.randn((6, 100), generator=g)\n",
    "b1 = torch.randn(100, generator=g)\n",
    "\n",
    "W2 = torch.randn((100, N), generator=g)\n",
    "b2 = torch.randn(N, generator=g)\n",
    "\n",
    "parameters = [C, W1, b1, W2, b2]\n",
    "for p in parameters:\n",
    "    p.requires_grad = True\n",
    "\n",
    "Steps = 300\n",
    "for step in range(Steps):\n",
    "    emb = C[X]\n",
    "    h = torch.tanh(emb.view(-1, 6) @ W1 + b1)\n",
    "    logits = h @ W2 + b2\n",
    "    loss = F.cross_entropy(logits, Y)\n",
    "    \n",
    "    for p in parameters:\n",
    "        p.grad = None\n",
    "        \n",
    "    loss.backward()\n",
    "    \n",
    "    if step % int(Steps/10) == 0:\n",
    "        print(f\"{step = }, loss = {loss.item()}\")\n",
    "\n",
    "    for p in parameters:\n",
    "        p.data -= 0.1*p.grad\n",
    "\n",
    "print(f\"loss = {loss.item()}\")"
   ]
  },
  {
   "cell_type": "code",
   "execution_count": 219,
   "id": "3544e77d",
   "metadata": {},
   "outputs": [
    {
     "data": {
      "text/plain": [
       "torch.return_types.max(\n",
       "values=tensor([12.2507, 15.6167, 19.7251, 19.2065, 15.1653, 12.2507, 14.5368, 12.9834,\n",
       "        14.6929, 16.7506, 14.3019, 19.3470, 12.2507, 15.2280, 15.6323, 18.4261,\n",
       "        12.2507, 15.1299, 13.3646, 15.2784, 17.2229, 14.2677,  9.4187,  9.3573,\n",
       "        14.6208, 12.2507, 14.8763, 15.4997, 11.8749, 15.2119, 17.4153, 14.0490],\n",
       "       grad_fn=<MaxBackward0>),\n",
       "indices=tensor([19, 13, 13,  1,  0, 19, 12,  9, 22,  9,  1,  0, 19, 22,  1,  0, 19, 19,\n",
       "         1,  2,  5, 12, 12,  1,  0, 19, 15, 16,  8,  9,  1,  0]))"
      ]
     },
     "execution_count": 219,
     "metadata": {},
     "output_type": "execute_result"
    }
   ],
   "source": [
    "# max value per row:\n",
    "logits.max(dim=1)"
   ]
  },
  {
   "cell_type": "code",
   "execution_count": 222,
   "id": "06b23fbc",
   "metadata": {},
   "outputs": [
    {
     "name": "stdout",
     "output_type": "stream",
     "text": [
      "tensor([ 5, 13, 13,  1,  0, 15, 12,  9, 22,  9,  1,  0,  1, 22,  1,  0,  9, 19,\n",
      "         1,  2,  5, 12, 12,  1,  0, 19, 15, 16,  8,  9,  1,  0])\n"
     ]
    },
    {
     "data": {
      "text/plain": [
       "tensor([14,  0,  0,  0,  0,  4,  0,  0,  0,  0,  0,  0, 18,  0,  0,  0, 10,  0,\n",
       "         0,  0,  0,  0,  0,  0,  0,  0,  0,  0,  0,  0,  0,  0])"
      ]
     },
     "execution_count": 222,
     "metadata": {},
     "output_type": "execute_result"
    }
   ],
   "source": [
    "print(Y)\n",
    "torch.abs(Y-logits.max(dim=1).indices)"
   ]
  },
  {
   "cell_type": "code",
   "execution_count": 206,
   "id": "95c86492",
   "metadata": {},
   "outputs": [
    {
     "name": "stdout",
     "output_type": "stream",
     "text": [
      "e\n",
      "o\n",
      "a\n",
      "i\n"
     ]
    }
   ],
   "source": [
    "for ind in Y[torch.abs(Y-logits.max(dim=1).indices) > 0 ]:\n",
    "    print(decode(ind.item()))"
   ]
  },
  {
   "cell_type": "raw",
   "id": "2495794c",
   "metadata": {},
   "source": [
    "emma\n",
    "... ---> e\n",
    "..e ---> m\n",
    ".em ---> m\n",
    "emm ---> a\n",
    "mma ---> .\n",
    "olivia\n",
    "... ---> o\n",
    "..o ---> l\n",
    ".ol ---> i\n",
    "oli ---> v\n",
    "liv ---> i\n",
    "ivi ---> a\n",
    "via ---> .\n",
    "ava\n",
    "... ---> a\n",
    "..a ---> v\n",
    ".av ---> a\n",
    "ava ---> .\n",
    "isabella\n",
    "... ---> i\n",
    "..i ---> s\n",
    ".is ---> a\n",
    "isa ---> b\n",
    "sab ---> e\n",
    "abe ---> l\n",
    "bel ---> l\n",
    "ell ---> a\n",
    "lla ---> .\n",
    "sophia\n",
    "... ---> s\n",
    "..s ---> o\n",
    ".so ---> p\n",
    "sop ---> h\n",
    "oph ---> i\n",
    "phi ---> a\n",
    "hia ---> ."
   ]
  },
  {
   "cell_type": "code",
   "execution_count": 250,
   "id": "02d1293a",
   "metadata": {},
   "outputs": [
    {
     "name": "stdout",
     "output_type": "stream",
     "text": [
      "... ---> a\n",
      "... ---> e\n",
      "... ---> i\n",
      "... ---> o\n",
      "... ---> s\n",
      "..a ---> v\n",
      "..e ---> m\n",
      "..i ---> s\n",
      "..o ---> l\n",
      "..s ---> o\n",
      ".av ---> a\n",
      ".em ---> m\n",
      ".is ---> a\n",
      ".ol ---> i\n",
      ".so ---> p\n",
      "abe ---> l\n",
      "ava ---> .\n",
      "bel ---> l\n",
      "ell ---> a\n",
      "emm ---> a\n",
      "hia ---> .\n",
      "isa ---> b\n",
      "ivi ---> a\n",
      "liv ---> i\n",
      "lla ---> .\n",
      "mma ---> .\n",
      "oli ---> v\n",
      "oph ---> i\n",
      "phi ---> a\n",
      "sab ---> e\n",
      "sop ---> h\n",
      "via ---> .\n"
     ]
    }
   ],
   "source": [
    "#\n",
    "# Exploring ambiguity:\n",
    "#     sort by first 3 letters as this is our feature span\n",
    "#\n",
    "with open('ambiguous.txt','r') as h:\n",
    "    ambig = [line.rstrip() for line in  h.readlines()]\n",
    "\n",
    "ambig = sorted(ambig, key = lambda s: s[:3]+s[9])\n",
    "\n",
    "print(\"\\n\".join(ambig))"
   ]
  },
  {
   "cell_type": "code",
   "execution_count": 229,
   "id": "77632b64",
   "metadata": {},
   "outputs": [
    {
     "data": {
      "text/plain": [
       "tensor([ 2.2874, -0.3045], grad_fn=<SqueezeBackward3>)"
      ]
     },
     "execution_count": 229,
     "metadata": {},
     "output_type": "execute_result"
    }
   ],
   "source": [
    "F.one_hot(torch.tensor(0), num_classes=27).float() @ C"
   ]
  },
  {
   "cell_type": "code",
   "execution_count": 255,
   "id": "62154fe6",
   "metadata": {},
   "outputs": [
    {
     "name": "stdout",
     "output_type": "stream",
     "text": [
      "s\n"
     ]
    }
   ],
   "source": [
    "#\n",
    "#  This is what is predicted for '...' input (instead of other (e,o,a,i) possibilities)\n",
    "#     this is why loss cannot become 0\n",
    "#     overfitting (exact prediction) otherwise\n",
    "#\n",
    "ind = torch.max(torch.tanh(C[[0,0,0]].view(-1,6) @ W1 + b1) @ W2 + b2, dim=1).indices\n",
    "print(decode(ind.item()))\n",
    "#\n",
    "#  This was just the forward pass calculation for '...', which is encoded as [0,0,0]\n",
    "#"
   ]
  },
  {
   "cell_type": "code",
   "execution_count": 259,
   "id": "17629fd4",
   "metadata": {},
   "outputs": [
    {
     "name": "stdout",
     "output_type": "stream",
     "text": [
      "X.shape = torch.Size([228146, 3])\n"
     ]
    }
   ],
   "source": [
    "X, Y = [], []\n",
    "\n",
    "block_size = 3\n",
    "for w in words:\n",
    "    context = [0] * block_size\n",
    "    for ch in w + '.':\n",
    "        ix = encode(ch)\n",
    "        X.append(context)\n",
    "        Y.append(ix)\n",
    "        context = context[1:] + [ix]\n",
    "\n",
    "        \n",
    "X = torch.tensor(X)\n",
    "Y = torch.tensor(Y)\n",
    "\n",
    "print(f\"{X.shape = }\")"
   ]
  },
  {
   "cell_type": "code",
   "execution_count": 341,
   "id": "583622ef",
   "metadata": {},
   "outputs": [
    {
     "name": "stdout",
     "output_type": "stream",
     "text": [
      "problem_size = torch.Size([228146, 3, 2])\n",
      "\n",
      "step = 0, loss = 19.505229949951172\n",
      "step = 2, loss = 15.776532173156738\n",
      "step = 4, loss = 14.002605438232422\n",
      "step = 6, loss = 12.57991886138916\n",
      "step = 8, loss = 11.47049331665039\n",
      "step = 10, loss = 10.709587097167969\n",
      "step = 12, loss = 10.127808570861816\n",
      "step = 14, loss = 9.614501953125\n",
      "step = 16, loss = 9.148944854736328\n",
      "step = 18, loss = 8.722230911254883\n",
      "loss = 8.521748542785645\n"
     ]
    }
   ],
   "source": [
    "g = torch.Generator().manual_seed(2147483647)\n",
    "\n",
    "C = torch.randn((N, 2), generator=g)\n",
    "\n",
    "W1 = torch.randn((6, 100), generator=g)\n",
    "b1 = torch.randn(100, generator=g)\n",
    "\n",
    "W2 = torch.randn((100, N), generator=g)\n",
    "b2 = torch.randn(N, generator=g)\n",
    "\n",
    "parameters = [C, W1, b1, W2, b2]\n",
    "for p in parameters:\n",
    "    p.requires_grad = True\n",
    "\n",
    "Steps = 20\n",
    "\n",
    "problem_size = C[X].shape\n",
    "print(f\"{problem_size = }\\n\")\n",
    "\n",
    "for step in range(Steps):\n",
    "    emb = C[X]\n",
    "    h = torch.tanh(emb.view(-1, 6) @ W1 + b1)\n",
    "    logits = h @ W2 + b2\n",
    "    loss = F.cross_entropy(logits, Y)\n",
    "    \n",
    "    for p in parameters:\n",
    "        p.grad = None\n",
    "        \n",
    "    loss.backward()\n",
    "    \n",
    "    if step % int(Steps/10) == 0:\n",
    "        print(f\"{step = }, loss = {loss.item()}\")\n",
    "\n",
    "    for p in parameters:\n",
    "        p.data -= 0.1*p.grad\n",
    "\n",
    "print(f\"loss = {loss.item()}\")"
   ]
  },
  {
   "cell_type": "code",
   "execution_count": 305,
   "id": "5ac3df5f",
   "metadata": {},
   "outputs": [],
   "source": [
    "def model_init():\n",
    "    g = torch.Generator().manual_seed(2147483647)\n",
    "\n",
    "    C = torch.randn((N, 2), generator=g)\n",
    "\n",
    "    W1 = torch.randn((6, 100), generator=g)\n",
    "    b1 = torch.randn(100, generator=g)\n",
    "\n",
    "    W2 = torch.randn((100, N), generator=g)\n",
    "    b2 = torch.randn(N, generator=g)\n",
    "\n",
    "    parameters = [C, W1, b1, W2, b2]\n",
    "    for p in parameters:\n",
    "        p.requires_grad = True\n",
    "        \n",
    "    return parameters"
   ]
  },
  {
   "cell_type": "code",
   "execution_count": 554,
   "id": "e8199483",
   "metadata": {},
   "outputs": [
    {
     "name": "stdout",
     "output_type": "stream",
     "text": [
      "ix.shape = torch.Size([32])\n",
      "\n",
      "X.shape = torch.Size([228146, 3])\n",
      "\n",
      "problem_size = torch.Size([32, 3, 2])\n",
      "\n",
      "step = 0, loss = 2.7358171939849854\n",
      "step = 100, loss = 2.2971091270446777\n",
      "step = 200, loss = 2.510371685028076\n",
      "step = 300, loss = 2.046825885772705\n",
      "step = 400, loss = 2.3307857513427734\n",
      "step = 500, loss = 2.4067234992980957\n",
      "step = 600, loss = 2.7482686042785645\n",
      "step = 700, loss = 2.4660470485687256\n",
      "step = 800, loss = 2.726320266723633\n",
      "step = 900, loss = 2.325817346572876\n",
      "loss = 2.2203707695007324\n"
     ]
    }
   ],
   "source": [
    "#\n",
    "#  With minibatches\n",
    "#\n",
    "\n",
    "C, W1, b1, W2, b2 = parameters = model_init()\n",
    "\n",
    "Steps = 100000\n",
    "\n",
    "ix = torch.randint(0, X.shape[0], (32,))\n",
    "print(f\"{ix.shape = }\\n\")\n",
    "print(f\"{X.shape = }\\n\")\n",
    "problem_size = C[X[ix]].shape\n",
    "print(f\"{problem_size = }\\n\")\n",
    "\n",
    "for step in range(Steps):\n",
    "    \n",
    "    # assuming we have more than 32 samples, \n",
    "    # select a random set of indices of size 32:\n",
    "    ix = torch.randint(0, X.shape[0], (32,)) # (32, 3, 2)\n",
    "    # this is done to increase speed as the gradient calculation \n",
    "    # is only done on the minibatch:\n",
    "    #\n",
    "    #  emb is much smaller (32x6), (32x3x2), actually\n",
    "    #\n",
    "    emb = C[X[ix]]    \n",
    "    h = torch.tanh(emb.view(-1, 6) @ W1 + b1) # (32, 100)\n",
    "    logits = h @ W2 + b2 # (32, 27)\n",
    "    loss = F.cross_entropy(logits, Y[ix]) # (27, 1)\n",
    "    \n",
    "    for p in parameters:\n",
    "        p.grad = None\n",
    "        \n",
    "    loss.backward()\n",
    "    \n",
    "    if step % int(Steps/10) == 0:\n",
    "        print(f\"{step = }, loss = {loss.item()}\")\n",
    "\n",
    "    for p in parameters:\n",
    "        p.data -= 0.1*p.grad\n",
    "    \n",
    "print(f\"loss = {loss.item()}\")"
   ]
  },
  {
   "cell_type": "code",
   "execution_count": 567,
   "id": "73b37be4",
   "metadata": {},
   "outputs": [
    {
     "name": "stdout",
     "output_type": "stream",
     "text": [
      "tensor(2.5108, grad_fn=<NllLossBackward0>)\n"
     ]
    }
   ],
   "source": [
    "# emb = C[X]\n",
    "# h = torch.tanh(emb.view(-1,6) @ W1 + b1)\n",
    "# logits = h @ W2 + b2\n",
    "# loss = F.cross_entropy(logits, Y)\n",
    "# print(loss)\n",
    "loss = F.cross_entropy(torch.tanh(C[X].view(-1,6) @ W1 + b1) @ W2 + b2, Y)\n",
    "print(loss)"
   ]
  },
  {
   "cell_type": "code",
   "execution_count": 571,
   "id": "93279517",
   "metadata": {},
   "outputs": [
    {
     "data": {
      "text/plain": [
       "tensor([0.0010, 0.0010, 0.0010, 0.0010, 0.0010, 0.0010, 0.0010, 0.0010, 0.0011,\n",
       "        0.0011, 0.0011, 0.0011, 0.0011, 0.0011, 0.0011, 0.0011, 0.0011, 0.0011,\n",
       "        0.0011, 0.0011, 0.0011, 0.0012, 0.0012, 0.0012, 0.0012, 0.0012, 0.0012,\n",
       "        0.0012, 0.0012, 0.0012, 0.0012, 0.0012, 0.0012, 0.0013, 0.0013, 0.0013,\n",
       "        0.0013, 0.0013, 0.0013, 0.0013, 0.0013, 0.0013, 0.0013, 0.0013, 0.0014,\n",
       "        0.0014, 0.0014, 0.0014, 0.0014, 0.0014, 0.0014, 0.0014, 0.0014, 0.0014,\n",
       "        0.0015, 0.0015, 0.0015, 0.0015, 0.0015, 0.0015, 0.0015, 0.0015, 0.0015,\n",
       "        0.0015, 0.0016, 0.0016, 0.0016, 0.0016, 0.0016, 0.0016, 0.0016, 0.0016,\n",
       "        0.0016, 0.0017, 0.0017, 0.0017, 0.0017, 0.0017, 0.0017, 0.0017, 0.0017,\n",
       "        0.0018, 0.0018, 0.0018, 0.0018, 0.0018, 0.0018, 0.0018, 0.0018, 0.0019,\n",
       "        0.0019, 0.0019, 0.0019, 0.0019, 0.0019, 0.0019, 0.0019, 0.0020, 0.0020,\n",
       "        0.0020, 0.0020, 0.0020, 0.0020, 0.0020, 0.0021, 0.0021, 0.0021, 0.0021,\n",
       "        0.0021, 0.0021, 0.0021, 0.0022, 0.0022, 0.0022, 0.0022, 0.0022, 0.0022,\n",
       "        0.0022, 0.0023, 0.0023, 0.0023, 0.0023, 0.0023, 0.0023, 0.0024, 0.0024,\n",
       "        0.0024, 0.0024, 0.0024, 0.0024, 0.0025, 0.0025, 0.0025, 0.0025, 0.0025,\n",
       "        0.0025, 0.0026, 0.0026, 0.0026, 0.0026, 0.0026, 0.0027, 0.0027, 0.0027,\n",
       "        0.0027, 0.0027, 0.0027, 0.0028, 0.0028, 0.0028, 0.0028, 0.0028, 0.0029,\n",
       "        0.0029, 0.0029, 0.0029, 0.0029, 0.0030, 0.0030, 0.0030, 0.0030, 0.0030,\n",
       "        0.0031, 0.0031, 0.0031, 0.0031, 0.0032, 0.0032, 0.0032, 0.0032, 0.0032,\n",
       "        0.0033, 0.0033, 0.0033, 0.0033, 0.0034, 0.0034, 0.0034, 0.0034, 0.0034,\n",
       "        0.0035, 0.0035, 0.0035, 0.0035, 0.0036, 0.0036, 0.0036, 0.0036, 0.0037,\n",
       "        0.0037, 0.0037, 0.0037, 0.0038, 0.0038, 0.0038, 0.0039, 0.0039, 0.0039,\n",
       "        0.0039, 0.0040, 0.0040, 0.0040, 0.0040, 0.0041, 0.0041, 0.0041, 0.0042,\n",
       "        0.0042, 0.0042, 0.0042, 0.0043, 0.0043, 0.0043, 0.0044, 0.0044, 0.0044,\n",
       "        0.0045, 0.0045, 0.0045, 0.0045, 0.0046, 0.0046, 0.0046, 0.0047, 0.0047,\n",
       "        0.0047, 0.0048, 0.0048, 0.0048, 0.0049, 0.0049, 0.0049, 0.0050, 0.0050,\n",
       "        0.0050, 0.0051, 0.0051, 0.0051, 0.0052, 0.0052, 0.0053, 0.0053, 0.0053,\n",
       "        0.0054, 0.0054, 0.0054, 0.0055, 0.0055, 0.0056, 0.0056, 0.0056, 0.0057,\n",
       "        0.0057, 0.0058, 0.0058, 0.0058, 0.0059, 0.0059, 0.0060, 0.0060, 0.0060,\n",
       "        0.0061, 0.0061, 0.0062, 0.0062, 0.0062, 0.0063, 0.0063, 0.0064, 0.0064,\n",
       "        0.0065, 0.0065, 0.0066, 0.0066, 0.0067, 0.0067, 0.0067, 0.0068, 0.0068,\n",
       "        0.0069, 0.0069, 0.0070, 0.0070, 0.0071, 0.0071, 0.0072, 0.0072, 0.0073,\n",
       "        0.0073, 0.0074, 0.0074, 0.0075, 0.0075, 0.0076, 0.0076, 0.0077, 0.0077,\n",
       "        0.0078, 0.0079, 0.0079, 0.0080, 0.0080, 0.0081, 0.0081, 0.0082, 0.0082,\n",
       "        0.0083, 0.0084, 0.0084, 0.0085, 0.0085, 0.0086, 0.0086, 0.0087, 0.0088,\n",
       "        0.0088, 0.0089, 0.0090, 0.0090, 0.0091, 0.0091, 0.0092, 0.0093, 0.0093,\n",
       "        0.0094, 0.0095, 0.0095, 0.0096, 0.0097, 0.0097, 0.0098, 0.0099, 0.0099,\n",
       "        0.0100, 0.0101, 0.0101, 0.0102, 0.0103, 0.0104, 0.0104, 0.0105, 0.0106,\n",
       "        0.0106, 0.0107, 0.0108, 0.0109, 0.0109, 0.0110, 0.0111, 0.0112, 0.0112,\n",
       "        0.0113, 0.0114, 0.0115, 0.0116, 0.0116, 0.0117, 0.0118, 0.0119, 0.0120,\n",
       "        0.0121, 0.0121, 0.0122, 0.0123, 0.0124, 0.0125, 0.0126, 0.0127, 0.0127,\n",
       "        0.0128, 0.0129, 0.0130, 0.0131, 0.0132, 0.0133, 0.0134, 0.0135, 0.0136,\n",
       "        0.0137, 0.0137, 0.0138, 0.0139, 0.0140, 0.0141, 0.0142, 0.0143, 0.0144,\n",
       "        0.0145, 0.0146, 0.0147, 0.0148, 0.0149, 0.0150, 0.0151, 0.0152, 0.0154,\n",
       "        0.0155, 0.0156, 0.0157, 0.0158, 0.0159, 0.0160, 0.0161, 0.0162, 0.0163,\n",
       "        0.0165, 0.0166, 0.0167, 0.0168, 0.0169, 0.0170, 0.0171, 0.0173, 0.0174,\n",
       "        0.0175, 0.0176, 0.0178, 0.0179, 0.0180, 0.0181, 0.0182, 0.0184, 0.0185,\n",
       "        0.0186, 0.0188, 0.0189, 0.0190, 0.0192, 0.0193, 0.0194, 0.0196, 0.0197,\n",
       "        0.0198, 0.0200, 0.0201, 0.0202, 0.0204, 0.0205, 0.0207, 0.0208, 0.0210,\n",
       "        0.0211, 0.0212, 0.0214, 0.0215, 0.0217, 0.0218, 0.0220, 0.0221, 0.0223,\n",
       "        0.0225, 0.0226, 0.0228, 0.0229, 0.0231, 0.0232, 0.0234, 0.0236, 0.0237,\n",
       "        0.0239, 0.0241, 0.0242, 0.0244, 0.0246, 0.0247, 0.0249, 0.0251, 0.0253,\n",
       "        0.0254, 0.0256, 0.0258, 0.0260, 0.0261, 0.0263, 0.0265, 0.0267, 0.0269,\n",
       "        0.0271, 0.0273, 0.0274, 0.0276, 0.0278, 0.0280, 0.0282, 0.0284, 0.0286,\n",
       "        0.0288, 0.0290, 0.0292, 0.0294, 0.0296, 0.0298, 0.0300, 0.0302, 0.0304,\n",
       "        0.0307, 0.0309, 0.0311, 0.0313, 0.0315, 0.0317, 0.0320, 0.0322, 0.0324,\n",
       "        0.0326, 0.0328, 0.0331, 0.0333, 0.0335, 0.0338, 0.0340, 0.0342, 0.0345,\n",
       "        0.0347, 0.0350, 0.0352, 0.0354, 0.0357, 0.0359, 0.0362, 0.0364, 0.0367,\n",
       "        0.0369, 0.0372, 0.0375, 0.0377, 0.0380, 0.0382, 0.0385, 0.0388, 0.0390,\n",
       "        0.0393, 0.0396, 0.0399, 0.0401, 0.0404, 0.0407, 0.0410, 0.0413, 0.0416,\n",
       "        0.0418, 0.0421, 0.0424, 0.0427, 0.0430, 0.0433, 0.0436, 0.0439, 0.0442,\n",
       "        0.0445, 0.0448, 0.0451, 0.0455, 0.0458, 0.0461, 0.0464, 0.0467, 0.0471,\n",
       "        0.0474, 0.0477, 0.0480, 0.0484, 0.0487, 0.0491, 0.0494, 0.0497, 0.0501,\n",
       "        0.0504, 0.0508, 0.0511, 0.0515, 0.0518, 0.0522, 0.0526, 0.0529, 0.0533,\n",
       "        0.0537, 0.0540, 0.0544, 0.0548, 0.0552, 0.0556, 0.0559, 0.0563, 0.0567,\n",
       "        0.0571, 0.0575, 0.0579, 0.0583, 0.0587, 0.0591, 0.0595, 0.0599, 0.0604,\n",
       "        0.0608, 0.0612, 0.0616, 0.0621, 0.0625, 0.0629, 0.0634, 0.0638, 0.0642,\n",
       "        0.0647, 0.0651, 0.0656, 0.0660, 0.0665, 0.0670, 0.0674, 0.0679, 0.0684,\n",
       "        0.0688, 0.0693, 0.0698, 0.0703, 0.0708, 0.0713, 0.0718, 0.0723, 0.0728,\n",
       "        0.0733, 0.0738, 0.0743, 0.0748, 0.0753, 0.0758, 0.0764, 0.0769, 0.0774,\n",
       "        0.0780, 0.0785, 0.0790, 0.0796, 0.0802, 0.0807, 0.0813, 0.0818, 0.0824,\n",
       "        0.0830, 0.0835, 0.0841, 0.0847, 0.0853, 0.0859, 0.0865, 0.0871, 0.0877,\n",
       "        0.0883, 0.0889, 0.0895, 0.0901, 0.0908, 0.0914, 0.0920, 0.0927, 0.0933,\n",
       "        0.0940, 0.0946, 0.0953, 0.0959, 0.0966, 0.0973, 0.0979, 0.0986, 0.0993,\n",
       "        0.1000, 0.1007, 0.1014, 0.1021, 0.1028, 0.1035, 0.1042, 0.1050, 0.1057,\n",
       "        0.1064, 0.1072, 0.1079, 0.1087, 0.1094, 0.1102, 0.1109, 0.1117, 0.1125,\n",
       "        0.1133, 0.1140, 0.1148, 0.1156, 0.1164, 0.1172, 0.1181, 0.1189, 0.1197,\n",
       "        0.1205, 0.1214, 0.1222, 0.1231, 0.1239, 0.1248, 0.1256, 0.1265, 0.1274,\n",
       "        0.1283, 0.1292, 0.1301, 0.1310, 0.1319, 0.1328, 0.1337, 0.1346, 0.1356,\n",
       "        0.1365, 0.1374, 0.1384, 0.1394, 0.1403, 0.1413, 0.1423, 0.1433, 0.1443,\n",
       "        0.1453, 0.1463, 0.1473, 0.1483, 0.1493, 0.1504, 0.1514, 0.1525, 0.1535,\n",
       "        0.1546, 0.1557, 0.1567, 0.1578, 0.1589, 0.1600, 0.1611, 0.1623, 0.1634,\n",
       "        0.1645, 0.1657, 0.1668, 0.1680, 0.1691, 0.1703, 0.1715, 0.1727, 0.1739,\n",
       "        0.1751, 0.1763, 0.1775, 0.1788, 0.1800, 0.1812, 0.1825, 0.1838, 0.1850,\n",
       "        0.1863, 0.1876, 0.1889, 0.1902, 0.1916, 0.1929, 0.1942, 0.1956, 0.1969,\n",
       "        0.1983, 0.1997, 0.2010, 0.2024, 0.2038, 0.2053, 0.2067, 0.2081, 0.2096,\n",
       "        0.2110, 0.2125, 0.2140, 0.2154, 0.2169, 0.2184, 0.2200, 0.2215, 0.2230,\n",
       "        0.2246, 0.2261, 0.2277, 0.2293, 0.2309, 0.2325, 0.2341, 0.2357, 0.2373,\n",
       "        0.2390, 0.2406, 0.2423, 0.2440, 0.2457, 0.2474, 0.2491, 0.2508, 0.2526,\n",
       "        0.2543, 0.2561, 0.2579, 0.2597, 0.2615, 0.2633, 0.2651, 0.2669, 0.2688,\n",
       "        0.2707, 0.2725, 0.2744, 0.2763, 0.2783, 0.2802, 0.2821, 0.2841, 0.2861,\n",
       "        0.2880, 0.2900, 0.2921, 0.2941, 0.2961, 0.2982, 0.3002, 0.3023, 0.3044,\n",
       "        0.3065, 0.3087, 0.3108, 0.3130, 0.3151, 0.3173, 0.3195, 0.3217, 0.3240,\n",
       "        0.3262, 0.3285, 0.3308, 0.3331, 0.3354, 0.3377, 0.3400, 0.3424, 0.3448,\n",
       "        0.3472, 0.3496, 0.3520, 0.3544, 0.3569, 0.3594, 0.3619, 0.3644, 0.3669,\n",
       "        0.3695, 0.3720, 0.3746, 0.3772, 0.3798, 0.3825, 0.3851, 0.3878, 0.3905,\n",
       "        0.3932, 0.3959, 0.3987, 0.4014, 0.4042, 0.4070, 0.4098, 0.4127, 0.4155,\n",
       "        0.4184, 0.4213, 0.4243, 0.4272, 0.4302, 0.4331, 0.4362, 0.4392, 0.4422,\n",
       "        0.4453, 0.4484, 0.4515, 0.4546, 0.4578, 0.4610, 0.4642, 0.4674, 0.4706,\n",
       "        0.4739, 0.4772, 0.4805, 0.4838, 0.4872, 0.4906, 0.4940, 0.4974, 0.5008,\n",
       "        0.5043, 0.5078, 0.5113, 0.5149, 0.5185, 0.5221, 0.5257, 0.5293, 0.5330,\n",
       "        0.5367, 0.5404, 0.5442, 0.5479, 0.5517, 0.5556, 0.5594, 0.5633, 0.5672,\n",
       "        0.5712, 0.5751, 0.5791, 0.5831, 0.5872, 0.5913, 0.5954, 0.5995, 0.6036,\n",
       "        0.6078, 0.6120, 0.6163, 0.6206, 0.6249, 0.6292, 0.6336, 0.6380, 0.6424,\n",
       "        0.6469, 0.6513, 0.6559, 0.6604, 0.6650, 0.6696, 0.6743, 0.6789, 0.6837,\n",
       "        0.6884, 0.6932, 0.6980, 0.7028, 0.7077, 0.7126, 0.7176, 0.7225, 0.7275,\n",
       "        0.7326, 0.7377, 0.7428, 0.7480, 0.7531, 0.7584, 0.7636, 0.7689, 0.7743,\n",
       "        0.7796, 0.7850, 0.7905, 0.7960, 0.8015, 0.8071, 0.8127, 0.8183, 0.8240,\n",
       "        0.8297, 0.8355, 0.8412, 0.8471, 0.8530, 0.8589, 0.8648, 0.8708, 0.8769,\n",
       "        0.8830, 0.8891, 0.8953, 0.9015, 0.9077, 0.9140, 0.9204, 0.9268, 0.9332,\n",
       "        0.9397, 0.9462, 0.9528, 0.9594, 0.9660, 0.9727, 0.9795, 0.9863, 0.9931,\n",
       "        1.0000])"
      ]
     },
     "execution_count": 571,
     "metadata": {},
     "output_type": "execute_result"
    }
   ],
   "source": [
    "lre = torch.linspace(-3,0, 1000)\n",
    "lrs = 10**lre\n",
    "lrs"
   ]
  },
  {
   "cell_type": "code",
   "execution_count": 580,
   "id": "f163bb0a",
   "metadata": {},
   "outputs": [
    {
     "name": "stdout",
     "output_type": "stream",
     "text": [
      "ix.shape = torch.Size([32])\n",
      "\n",
      "X.shape = torch.Size([228146, 3])\n",
      "\n",
      "problem_size = torch.Size([32, 3, 2])\n",
      "\n",
      "step = 0, loss = 17.4433536529541\n",
      "step = 100, loss = 17.128036499023438\n",
      "step = 200, loss = 13.343046188354492\n",
      "step = 300, loss = 12.948945999145508\n",
      "step = 400, loss = 7.260203838348389\n",
      "step = 500, loss = 4.799441814422607\n",
      "step = 600, loss = 2.6984164714813232\n",
      "step = 700, loss = 3.116445541381836\n",
      "step = 800, loss = 3.2241733074188232\n",
      "step = 900, loss = 4.955418586730957\n",
      "loss = 8.027120590209961\n"
     ]
    }
   ],
   "source": [
    "#\n",
    "#  With minibatches\n",
    "#\n",
    "\n",
    "C, W1, b1, W2, b2 = parameters = model_init()\n",
    "\n",
    "Steps = 1000\n",
    "\n",
    "ix = torch.randint(0, X.shape[0], (32,))\n",
    "print(f\"{ix.shape = }\\n\")\n",
    "print(f\"{X.shape = }\\n\")\n",
    "problem_size = C[X[ix]].shape\n",
    "print(f\"{problem_size = }\\n\")\n",
    "\n",
    "lri = []\n",
    "lossi = []\n",
    "for step in range(Steps):\n",
    "    \n",
    "    # assuming we have more than 32 samples, \n",
    "    # select a random set of indices of size 32:\n",
    "    ix = torch.randint(0, X.shape[0], (32,)) # (32, 3, 2)\n",
    "    # this is done to increase speed as the gradient calculation \n",
    "    # is only done on the minibatch:\n",
    "    #\n",
    "    #  emb is much smaller (32x6), (32x3x2), actually\n",
    "    #\n",
    "    emb = C[X[ix]]    \n",
    "    h = torch.tanh(emb.view(-1, 6) @ W1 + b1) # (32, 100)\n",
    "    logits = h @ W2 + b2 # (32, 27)\n",
    "    loss = F.cross_entropy(logits, Y[ix]) # (27, 1)\n",
    "    \n",
    "    for p in parameters:\n",
    "        p.grad = None\n",
    "        \n",
    "    loss.backward()\n",
    "    \n",
    "    if step % int(Steps/10) == 0:\n",
    "        print(f\"{step = }, loss = {loss.item()}\")\n",
    "\n",
    "    lr = lrs[step]\n",
    "    for p in parameters:\n",
    "        p.data -= lr*p.grad\n",
    "    lri.append(lre[step])\n",
    "    lossi.append(loss.item())\n",
    "    \n",
    "print(f\"loss = {loss.item()}\")"
   ]
  },
  {
   "cell_type": "code",
   "execution_count": 581,
   "id": "4231c1fb",
   "metadata": {},
   "outputs": [
    {
     "data": {
      "text/plain": [
       "[<matplotlib.lines.Line2D at 0x7f1dc780a1c0>]"
      ]
     },
     "execution_count": 581,
     "metadata": {},
     "output_type": "execute_result"
    },
    {
     "data": {
      "image/png": "[encoded data removed]",
      "text/plain": [
       "<Figure size 640x480 with 1 Axes>"
      ]
     },
     "metadata": {},
     "output_type": "display_data"
    }
   ],
   "source": [
    "plt.plot(lri, lossi)"
   ]
  },
  {
   "cell_type": "code",
   "execution_count": 579,
   "id": "25856bfb",
   "metadata": {},
   "outputs": [
    {
     "name": "stdout",
     "output_type": "stream",
     "text": [
      "ix.shape = torch.Size([32])\n",
      "\n",
      "X.shape = torch.Size([228146, 3])\n",
      "\n",
      "problem_size = torch.Size([32, 3, 2])\n",
      "\n",
      "step = 0, loss = 2.5828747749328613\n",
      "step = 10000, loss = 2.373711109161377\n",
      "step = 20000, loss = 2.1053831577301025\n",
      "step = 30000, loss = 2.1323249340057373\n",
      "step = 40000, loss = 2.2444777488708496\n",
      "step = 50000, loss = 2.3498728275299072\n",
      "step = 60000, loss = 2.004650592803955\n",
      "step = 70000, loss = 2.1323673725128174\n",
      "step = 80000, loss = 1.9687038660049438\n",
      "step = 90000, loss = 2.1023547649383545\n",
      "loss = 2.3225154876708984\n"
     ]
    }
   ],
   "source": [
    "#\n",
    "#  With minibatches\n",
    "#\n",
    "\n",
    "#C, W1, b1, W2, b2 = parameters = model_init()\n",
    "\n",
    "Steps = 100000\n",
    "\n",
    "ix = torch.randint(0, X.shape[0], (32,))\n",
    "print(f\"{ix.shape = }\\n\")\n",
    "print(f\"{X.shape = }\\n\")\n",
    "problem_size = C[X[ix]].shape\n",
    "print(f\"{problem_size = }\\n\")\n",
    "\n",
    "for step in range(Steps):\n",
    "    \n",
    "    # assuming we have more than 32 samples, \n",
    "    # select a random set of indices of size 32:\n",
    "    ix = torch.randint(0, X.shape[0], (32,)) # (32, 3, 2)\n",
    "    # this is done to increase speed as the gradient calculation \n",
    "    # is only done on the minibatch:\n",
    "    #\n",
    "    #  emb is much smaller (32x6), (32x3x2), actually\n",
    "    #\n",
    "    emb = C[X[ix]]    \n",
    "    h = torch.tanh(emb.view(-1, 6) @ W1 + b1) # (32, 100)\n",
    "    logits = h @ W2 + b2 # (32, 27)\n",
    "    loss = F.cross_entropy(logits, Y[ix]) # (27, 1)\n",
    "    \n",
    "    for p in parameters:\n",
    "        p.grad = None\n",
    "        \n",
    "    loss.backward()\n",
    "    \n",
    "    if step % int(Steps/10) == 0:\n",
    "        print(f\"{step = }, loss = {loss.item()}\")\n",
    "    lr = 0.01\n",
    "    for p in parameters:\n",
    "        p.data -= lr*p.grad\n",
    "    \n",
    "print(f\"loss = {loss.item()}\")"
   ]
  },
  {
   "cell_type": "code",
   "execution_count": null,
   "id": "f30d3bec",
   "metadata": {},
   "outputs": [],
   "source": []
  }
 ],
 "metadata": {
  "kernelspec": {
   "display_name": "Python 3 (ipykernel)",
   "language": "python",
   "name": "python3"
  },
  "language_info": {
   "codemirror_mode": {
    "name": "ipython",
    "version": 3
   },
   "file_extension": ".py",
   "mimetype": "text/x-python",
   "name": "python",
   "nbconvert_exporter": "python",
   "pygments_lexer": "ipython3",
   "version": "3.9.14"
  }
 },
 "nbformat": 4,
 "nbformat_minor": 5
}
