{
 "cells": [
  {
   "cell_type": "markdown",
   "id": "bdb201b6",
   "metadata": {},
   "source": [
    "Python Is So Strange:\n",
    "\n",
    "*  PISS"
   ]
  },
  {
   "cell_type": "code",
   "execution_count": 9,
   "id": "adcb621f",
   "metadata": {},
   "outputs": [
    {
     "data": {
      "text/plain": [
       "{'a', 'b'}"
      ]
     },
     "execution_count": 9,
     "metadata": {},
     "output_type": "execute_result"
    }
   ],
   "source": [
    "set('abab')"
   ]
  },
  {
   "cell_type": "code",
   "execution_count": 10,
   "id": "69ec0128",
   "metadata": {},
   "outputs": [
    {
     "data": {
      "text/plain": [
       "{'abab'}"
      ]
     },
     "execution_count": 10,
     "metadata": {},
     "output_type": "execute_result"
    }
   ],
   "source": [
    "set(['abab'])"
   ]
  },
  {
   "cell_type": "code",
   "execution_count": 11,
   "id": "e3b3240f",
   "metadata": {},
   "outputs": [
    {
     "data": {
      "text/plain": [
       "['a', 'b', 'a', 'b']"
      ]
     },
     "execution_count": 11,
     "metadata": {},
     "output_type": "execute_result"
    }
   ],
   "source": [
    "list('abab')"
   ]
  },
  {
   "cell_type": "code",
   "execution_count": 12,
   "id": "0e68e9b0",
   "metadata": {
    "scrolled": true
   },
   "outputs": [
    {
     "data": {
      "text/plain": [
       "{'a', 'b'}"
      ]
     },
     "execution_count": 12,
     "metadata": {},
     "output_type": "execute_result"
    }
   ],
   "source": [
    "set(list('abab'))"
   ]
  },
  {
   "cell_type": "code",
   "execution_count": null,
   "id": "6d4fc04d",
   "metadata": {},
   "outputs": [],
   "source": []
  }
 ],
 "metadata": {
  "kernelspec": {
   "display_name": "Python 3 (ipykernel)",
   "language": "python",
   "name": "python3"
  },
  "language_info": {
   "codemirror_mode": {
    "name": "ipython",
    "version": 3
   },
   "file_extension": ".py",
   "mimetype": "text/x-python",
   "name": "python",
   "nbconvert_exporter": "python",
   "pygments_lexer": "ipython3",
   "version": "3.9.16"
  }
 },
 "nbformat": 4,
 "nbformat_minor": 5
}
