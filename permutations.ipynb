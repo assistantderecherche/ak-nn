{
 "cells": [
  {
   "cell_type": "code",
   "execution_count": 3,
   "id": "e7c67934",
   "metadata": {},
   "outputs": [],
   "source": [
    "import numpy as np\n",
    "import random"
   ]
  },
  {
   "cell_type": "code",
   "execution_count": 4,
   "id": "bac4edf2",
   "metadata": {},
   "outputs": [
    {
     "name": "stdout",
     "output_type": "stream",
     "text": [
      "a = [4, 2, 3, 5, 1]\n",
      "top level (rows) shuffled:\t\tb = [[6, 7, 8, 9, 10], [1, 2, 3, 4, 5]]\n",
      "each row, but not rows shuffled:\tb = [[4, 2, 3, 5, 1], [9, 8, 6, 10, 7]]\n"
     ]
    }
   ],
   "source": [
    "random.seed(42)\n",
    "a = [1,2,3,4,5]\n",
    "random.shuffle(a)\n",
    "print(f\"{a = }\")\n",
    "#\n",
    "# note 'shuffle' works on the top level members:\n",
    "#\n",
    "b = [[1,2,3,4,5], [6,7,8,9,10]]\n",
    "random.seed(42)\n",
    "random.shuffle(b)\n",
    "print(f\"top level (rows) shuffled:\\t\\t{b = }\")\n",
    "#\n",
    "# unlike:\n",
    "#\n",
    "random.seed(42)\n",
    "b = [[1,2,3,4,5], [6,7,8,9,10]]\n",
    "#random.shuffle(b)\n",
    "for row in b:\n",
    "    random.shuffle(row)\n",
    "print(f\"each row, but not rows shuffled:\\t{b = }\")"
   ]
  },
  {
   "cell_type": "code",
   "execution_count": 5,
   "id": "3ff8b2f6",
   "metadata": {},
   "outputs": [
    {
     "name": "stdout",
     "output_type": "stream",
     "text": [
      "with comprehension:\t['d', 'a', 'b', 'c']\n",
      "with numpy:\t\t['d', 'a', 'b', 'c']\n",
      "\n",
      "perm[perm] = array([2, 3, 0, 1])\n"
     ]
    }
   ],
   "source": [
    "mylist = [\"a\", \"b\", \"c\", \"d\"]\n",
    "\n",
    "np.random.seed(49)\n",
    "perm = np.random.permutation(range(len(mylist)))\n",
    "\n",
    "new_list = [mylist[p] for p in list(perm)]\n",
    "print(f\"with comprehension:\\t{new_list}\")\n",
    "\n",
    "np_arr = np.array(mylist)\n",
    "np_perm_list = list(np_arr[perm])\n",
    "print(f\"with numpy:\\t\\t{np_perm_list}\")\n",
    "\n",
    "print(f\"\\n{perm[perm] = }\")"
   ]
  },
  {
   "cell_type": "code",
   "execution_count": 7,
   "id": "2ad3e57c",
   "metadata": {},
   "outputs": [
    {
     "data": {
      "text/plain": [
       "'perm[perm[perm[perm]]] = array([0, 1, 2, 3]) ;)'"
      ]
     },
     "execution_count": 7,
     "metadata": {},
     "output_type": "execute_result"
    }
   ],
   "source": [
    "(f\"{perm[perm[perm[perm]]] = } ;)\")"
   ]
  },
  {
   "cell_type": "code",
   "execution_count": null,
   "id": "adcb621f",
   "metadata": {},
   "outputs": [],
   "source": []
  }
 ],
 "metadata": {
  "kernelspec": {
   "display_name": "Python 3 (ipykernel)",
   "language": "python",
   "name": "python3"
  },
  "language_info": {
   "codemirror_mode": {
    "name": "ipython",
    "version": 3
   },
   "file_extension": ".py",
   "mimetype": "text/x-python",
   "name": "python",
   "nbconvert_exporter": "python",
   "pygments_lexer": "ipython3",
   "version": "3.9.16"
  }
 },
 "nbformat": 4,
 "nbformat_minor": 5
}
