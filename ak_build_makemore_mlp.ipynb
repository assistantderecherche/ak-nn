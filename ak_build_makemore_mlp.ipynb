{
 "cells": [
  {
   "cell_type": "code",
   "execution_count": 1,
   "metadata": {
    "id": "vowXRstocd8F"
   },
   "outputs": [],
   "source": [
    "import torch\n",
    "import torch.nn.functional as F\n",
    "import matplotlib.pyplot as plt # for making figures\n",
    "%matplotlib inline"
   ]
  },
  {
   "cell_type": "code",
   "execution_count": 2,
   "metadata": {
    "colab": {
     "base_uri": "https://localhost:8080/"
    },
    "id": "9Rlc3YeWcm_d",
    "outputId": "ab9bde9a-c328-4f37-8c34-d8cee50911e4"
   },
   "outputs": [
    {
     "name": "stdout",
     "output_type": "stream",
     "text": [
      "--2023-04-07 22:10:11--  https://raw.githubusercontent.com/karpathy/makemore/master/names.txt\n",
      "Resolving raw.githubusercontent.com (raw.githubusercontent.com)... 185.199.108.133, 185.199.109.133, 185.199.110.133, ...\n",
      "Connecting to raw.githubusercontent.com (raw.githubusercontent.com)|185.199.108.133|:443... connected.\n",
      "HTTP request sent, awaiting response... 200 OK\n",
      "Length: 228145 (223K) [text/plain]\n",
      "Saving to: ‘names.txt’\n",
      "\n",
      "names.txt           100%[===================>] 222.80K  --.-KB/s    in 0.03s   \n",
      "\n",
      "2023-04-07 22:10:11 (6.79 MB/s) - ‘names.txt’ saved [228145/228145]\n",
      "\n"
     ]
    }
   ],
   "source": [
    "# download the names.txt file from github\n",
    "!wget https://raw.githubusercontent.com/karpathy/makemore/master/names.txt"
   ]
  },
  {
   "cell_type": "code",
   "execution_count": 2,
   "metadata": {
    "colab": {
     "base_uri": "https://localhost:8080/"
    },
    "id": "uH2MGP4FcidR",
    "outputId": "b68b5db3-6ff5-4a07-e8dd-74be438b1498"
   },
   "outputs": [
    {
     "data": {
      "text/plain": [
       "['emma', 'olivia', 'ava', 'isabella', 'sophia', 'charlotte', 'mia', 'amelia']"
      ]
     },
     "execution_count": 2,
     "metadata": {},
     "output_type": "execute_result"
    }
   ],
   "source": [
    "words = open('names.txt', 'r').read().splitlines()\n",
    "words[:8]"
   ]
  },
  {
   "cell_type": "code",
   "execution_count": 3,
   "metadata": {
    "colab": {
     "base_uri": "https://localhost:8080/"
    },
    "id": "FbakoEqAcvnF",
    "outputId": "e588b91f-20c3-4222-d6ef-5b459bf6f220"
   },
   "outputs": [
    {
     "data": {
      "text/plain": [
       "32033"
      ]
     },
     "execution_count": 3,
     "metadata": {},
     "output_type": "execute_result"
    }
   ],
   "source": [
    "len(words)"
   ]
  },
  {
   "cell_type": "code",
   "execution_count": 4,
   "metadata": {
    "colab": {
     "base_uri": "https://localhost:8080/"
    },
    "id": "EYnXhmWVcx-l",
    "outputId": "5c687f00-ed39-4969-9fd7-a76705d52529"
   },
   "outputs": [
    {
     "name": "stdout",
     "output_type": "stream",
     "text": [
      "{1: 'a', 2: 'b', 3: 'c', 4: 'd', 5: 'e', 6: 'f', 7: 'g', 8: 'h', 9: 'i', 10: 'j', 11: 'k', 12: 'l', 13: 'm', 14: 'n', 15: 'o', 16: 'p', 17: 'q', 18: 'r', 19: 's', 20: 't', 21: 'u', 22: 'v', 23: 'w', 24: 'x', 25: 'y', 26: 'z', 0: '.'}\n"
     ]
    }
   ],
   "source": [
    "# build the vocabulary of characters and mappings to/from integers\n",
    "chars = sorted(list(set(''.join(words))))\n",
    "stoi = {s:i+1 for i,s in enumerate(chars)}\n",
    "stoi['.'] = 0\n",
    "itos = {i:s for s,i in stoi.items()}\n",
    "print(itos)"
   ]
  },
  {
   "cell_type": "code",
   "execution_count": 5,
   "metadata": {
    "colab": {
     "base_uri": "https://localhost:8080/"
    },
    "id": "MB5XgJxdczFi",
    "outputId": "a2473d51-256c-4e3c-a701-aed4b5f1cfeb"
   },
   "outputs": [
    {
     "name": "stdout",
     "output_type": "stream",
     "text": [
      "torch.Size([182625, 3]) torch.Size([182625])\n",
      "torch.Size([22655, 3]) torch.Size([22655])\n",
      "torch.Size([22866, 3]) torch.Size([22866])\n"
     ]
    }
   ],
   "source": [
    "# build the dataset\n",
    "block_size = 3 # context length: how many characters do we take to predict the next one?\n",
    "\n",
    "def build_dataset(words):\n",
    "  X, Y = [], []\n",
    "  for w in words:\n",
    "\n",
    "    #print(w)\n",
    "    context = [0] * block_size\n",
    "    for ch in w + '.':\n",
    "      ix = stoi[ch]\n",
    "      X.append(context)\n",
    "      Y.append(ix)\n",
    "      #print(''.join(itos[i] for i in context), '--->', itos[ix])\n",
    "      context = context[1:] + [ix] # crop and append\n",
    "\n",
    "  X = torch.tensor(X)\n",
    "  Y = torch.tensor(Y)\n",
    "  print(X.shape, Y.shape)\n",
    "  return X, Y\n",
    "\n",
    "import random\n",
    "random.seed(42)\n",
    "random.shuffle(words)\n",
    "n1 = int(0.8*len(words))\n",
    "n2 = int(0.9*len(words))\n",
    "\n",
    "Xtr, Ytr = build_dataset(words[:n1])\n",
    "Xdev, Ydev = build_dataset(words[n1:n2])\n",
    "Xte, Yte = build_dataset(words[n2:])"
   ]
  },
  {
   "cell_type": "code",
   "execution_count": 6,
   "metadata": {
    "id": "EAA0_oigc13X"
   },
   "outputs": [],
   "source": [
    "g = torch.Generator().manual_seed(2147483647) # for reproducibility\n",
    "C = torch.randn((27, 10), generator=g)\n",
    "W1 = torch.randn((30, 200), generator=g)\n",
    "b1 = torch.randn(200, generator=g)\n",
    "W2 = torch.randn((200, 27), generator=g)\n",
    "b2 = torch.randn(27, generator=g)\n",
    "parameters = [C, W1, b1, W2, b2]"
   ]
  },
  {
   "cell_type": "code",
   "execution_count": 7,
   "metadata": {
    "colab": {
     "base_uri": "https://localhost:8080/"
    },
    "id": "_HcVef6-c5S4",
    "outputId": "ab39e0e3-017a-4ce9-e5eb-481d0ca7c495"
   },
   "outputs": [
    {
     "data": {
      "text/plain": [
       "11897"
      ]
     },
     "execution_count": 7,
     "metadata": {},
     "output_type": "execute_result"
    }
   ],
   "source": [
    "sum(p.nelement() for p in parameters) # number of parameters in total"
   ]
  },
  {
   "cell_type": "code",
   "execution_count": 8,
   "metadata": {
    "id": "coNBea1sc6tm"
   },
   "outputs": [],
   "source": [
    "for p in parameters:\n",
    "  p.requires_grad = True"
   ]
  },
  {
   "cell_type": "code",
   "execution_count": 9,
   "metadata": {
    "id": "nFWpAj_9c9Yr"
   },
   "outputs": [],
   "source": [
    "lre = torch.linspace(-3, 0, 1000)\n",
    "lrs = 10**lre"
   ]
  },
  {
   "cell_type": "code",
   "execution_count": 10,
   "metadata": {
    "id": "t2huuyTudBlF"
   },
   "outputs": [],
   "source": [
    "lri = []\n",
    "lossi = []\n",
    "stepi = []"
   ]
  },
  {
   "cell_type": "code",
   "execution_count": 11,
   "metadata": {
    "id": "jiKD-PPOdClh"
   },
   "outputs": [],
   "source": [
    "for i in range(200000):\n",
    "  \n",
    "  # minibatch construct\n",
    "  ix = torch.randint(0, Xtr.shape[0], (32,))\n",
    "  \n",
    "  # forward pass\n",
    "  emb = C[Xtr[ix]] # (32, 3, 2)\n",
    "  h = torch.tanh(emb.view(-1, 30) @ W1 + b1) # (32, 100)\n",
    "  logits = h @ W2 + b2 # (32, 27)\n",
    "  loss = F.cross_entropy(logits, Ytr[ix])\n",
    "  #print(loss.item())\n",
    "  \n",
    "  # backward pass\n",
    "  for p in parameters:\n",
    "    p.grad = None\n",
    "  loss.backward()\n",
    "  \n",
    "  # update\n",
    "  #lr = lrs[i]\n",
    "  lr = 0.1 if i < 100000 else 0.01\n",
    "  for p in parameters:\n",
    "    p.data += -lr * p.grad\n",
    "\n",
    "  # track stats\n",
    "  #lri.append(lre[i])\n",
    "  stepi.append(i)\n",
    "  lossi.append(loss.log10().item())\n",
    "\n",
    "#print(loss.item())"
   ]
  },
  {
   "cell_type": "code",
   "execution_count": 12,
   "metadata": {
    "colab": {
     "base_uri": "https://localhost:8080/",
     "height": 447
    },
    "id": "ZBAYXZ_rdGIG",
    "outputId": "f85ef02b-1798-4abc-df16-d4d5e7a587bd"
   },
   "outputs": [
    {
     "data": {
      "text/plain": [
       "[<matplotlib.lines.Line2D at 0x7f52a433cbe0>]"
      ]
     },
     "execution_count": 12,
     "metadata": {},
     "output_type": "execute_result"
    },
    {
     "data": {
      "image/png": "[encoded data removed]",
      "text/plain": [
       "<Figure size 640x480 with 1 Axes>"
      ]
     },
     "metadata": {},
     "output_type": "display_data"
    }
   ],
   "source": [
    "plt.plot(stepi, lossi)"
   ]
  },
  {
   "cell_type": "code",
   "execution_count": 13,
   "metadata": {
    "colab": {
     "base_uri": "https://localhost:8080/"
    },
    "id": "ZlhYinNgdIVF",
    "outputId": "adc2e022-797e-49b5-fe54-65af9e92a7ab"
   },
   "outputs": [
    {
     "data": {
      "text/plain": [
       "tensor(2.1322, grad_fn=<NllLossBackward0>)"
      ]
     },
     "execution_count": 13,
     "metadata": {},
     "output_type": "execute_result"
    }
   ],
   "source": [
    "# training loss \n",
    "emb = C[Xtr] # (32, 3, 2)\n",
    "h = torch.tanh(emb.view(-1, 30) @ W1 + b1) # (32, 100)\n",
    "logits = h @ W2 + b2 # (32, 27)\n",
    "loss = F.cross_entropy(logits, Ytr)\n",
    "loss"
   ]
  },
  {
   "cell_type": "code",
   "execution_count": 14,
   "metadata": {
    "colab": {
     "base_uri": "https://localhost:8080/"
    },
    "id": "cJH3DDu4dLTM",
    "outputId": "53869904-ab89-46f2-9b4c-8c06857a3ebe"
   },
   "outputs": [
    {
     "data": {
      "text/plain": [
       "tensor(2.1762, grad_fn=<NllLossBackward0>)"
      ]
     },
     "execution_count": 14,
     "metadata": {},
     "output_type": "execute_result"
    }
   ],
   "source": [
    "# validation loss\n",
    "emb = C[Xdev] # (32, 3, 2)\n",
    "h = torch.tanh(emb.view(-1, 30) @ W1 + b1) # (32, 100)\n",
    "logits = h @ W2 + b2 # (32, 27)\n",
    "loss = F.cross_entropy(logits, Ydev)\n",
    "loss"
   ]
  },
  {
   "cell_type": "code",
   "execution_count": 15,
   "metadata": {
    "colab": {
     "base_uri": "https://localhost:8080/"
    },
    "id": "DwOgCg1vdNhe",
    "outputId": "91505892-b446-4bf0-b55c-75b188e63ebf"
   },
   "outputs": [
    {
     "data": {
      "text/plain": [
       "tensor(2.1743, grad_fn=<NllLossBackward0>)"
      ]
     },
     "execution_count": 15,
     "metadata": {},
     "output_type": "execute_result"
    }
   ],
   "source": [
    "# test loss\n",
    "emb = C[Xte] # (32, 3, 2)\n",
    "h = torch.tanh(emb.view(-1, 30) @ W1 + b1) # (32, 100)\n",
    "logits = h @ W2 + b2 # (32, 27)\n",
    "loss = F.cross_entropy(logits, Yte)\n",
    "loss"
   ]
  },
  {
   "cell_type": "code",
   "execution_count": 16,
   "metadata": {
    "colab": {
     "base_uri": "https://localhost:8080/",
     "height": 676
    },
    "id": "CCWLYP9GdPP4",
    "outputId": "772eab7c-f396-4696-ed1d-a7a0e3cdd988"
   },
   "outputs": [
    {
     "data": {
      "image/png": "[encoded data removed]",
      "text/plain": [
       "<Figure size 800x800 with 1 Axes>"
      ]
     },
     "metadata": {},
     "output_type": "display_data"
    }
   ],
   "source": [
    "# visualize dimensions 0 and 1 of the embedding matrix C for all characters\n",
    "plt.figure(figsize=(8,8))\n",
    "plt.scatter(C[:,0].data, C[:,1].data, s=200)\n",
    "for i in range(C.shape[0]):\n",
    "    plt.text(C[i,0].item(), C[i,1].item(), itos[i], ha=\"center\", va=\"center\", color='white')\n",
    "plt.grid('minor')"
   ]
  },
  {
   "cell_type": "code",
   "execution_count": 18,
   "metadata": {
    "colab": {
     "base_uri": "https://localhost:8080/"
    },
    "id": "TQUMmgRrdRIA",
    "outputId": "62f708f3-5c78-49fb-ac59-aa013ae6cf37"
   },
   "outputs": [
    {
     "name": "stdout",
     "output_type": "stream",
     "text": [
      "torch.Size([1, 200])\n",
      "torch.Size([1, 200])\n",
      "torch.Size([1, 200])\n",
      "torch.Size([1, 200])\n",
      "torch.Size([1, 200])\n",
      "torch.Size([1, 200])\n",
      "torch.Size([1, 200])\n",
      "carmah.\n",
      "torch.Size([1, 200])\n",
      "torch.Size([1, 200])\n",
      "torch.Size([1, 200])\n",
      "torch.Size([1, 200])\n",
      "aal.\n",
      "torch.Size([1, 200])\n",
      "torch.Size([1, 200])\n",
      "torch.Size([1, 200])\n",
      "torch.Size([1, 200])\n",
      "torch.Size([1, 200])\n",
      "hari.\n",
      "torch.Size([1, 200])\n",
      "torch.Size([1, 200])\n",
      "torch.Size([1, 200])\n",
      "torch.Size([1, 200])\n",
      "torch.Size([1, 200])\n",
      "torch.Size([1, 200])\n",
      "kimri.\n",
      "torch.Size([1, 200])\n",
      "torch.Size([1, 200])\n",
      "torch.Size([1, 200])\n",
      "torch.Size([1, 200])\n",
      "torch.Size([1, 200])\n",
      "torch.Size([1, 200])\n",
      "torch.Size([1, 200])\n",
      "torch.Size([1, 200])\n",
      "reviyah.\n",
      "torch.Size([1, 200])\n",
      "torch.Size([1, 200])\n",
      "torch.Size([1, 200])\n",
      "torch.Size([1, 200])\n",
      "torch.Size([1, 200])\n",
      "torch.Size([1, 200])\n",
      "torch.Size([1, 200])\n",
      "cassie.\n",
      "torch.Size([1, 200])\n",
      "torch.Size([1, 200])\n",
      "torch.Size([1, 200])\n",
      "torch.Size([1, 200])\n",
      "torch.Size([1, 200])\n",
      "torch.Size([1, 200])\n",
      "torch.Size([1, 200])\n",
      "rahnen.\n",
      "torch.Size([1, 200])\n",
      "torch.Size([1, 200])\n",
      "torch.Size([1, 200])\n",
      "torch.Size([1, 200])\n",
      "den.\n",
      "torch.Size([1, 200])\n",
      "torch.Size([1, 200])\n",
      "torch.Size([1, 200])\n",
      "torch.Size([1, 200])\n",
      "art.\n",
      "torch.Size([1, 200])\n",
      "torch.Size([1, 200])\n",
      "torch.Size([1, 200])\n",
      "torch.Size([1, 200])\n",
      "torch.Size([1, 200])\n",
      "torch.Size([1, 200])\n",
      "kaeli.\n",
      "torch.Size([1, 200])\n",
      "torch.Size([1, 200])\n",
      "torch.Size([1, 200])\n",
      "torch.Size([1, 200])\n",
      "torch.Size([1, 200])\n",
      "torch.Size([1, 200])\n",
      "torch.Size([1, 200])\n",
      "torch.Size([1, 200])\n",
      "torch.Size([1, 200])\n",
      "nellaiah.\n",
      "torch.Size([1, 200])\n",
      "torch.Size([1, 200])\n",
      "torch.Size([1, 200])\n",
      "torch.Size([1, 200])\n",
      "torch.Size([1, 200])\n",
      "torch.Size([1, 200])\n",
      "maiir.\n",
      "torch.Size([1, 200])\n",
      "torch.Size([1, 200])\n",
      "torch.Size([1, 200])\n",
      "torch.Size([1, 200])\n",
      "torch.Size([1, 200])\n",
      "torch.Size([1, 200])\n",
      "torch.Size([1, 200])\n",
      "torch.Size([1, 200])\n",
      "kaleigh.\n",
      "torch.Size([1, 200])\n",
      "torch.Size([1, 200])\n",
      "torch.Size([1, 200])\n",
      "torch.Size([1, 200])\n",
      "ham.\n",
      "torch.Size([1, 200])\n",
      "torch.Size([1, 200])\n",
      "torch.Size([1, 200])\n",
      "torch.Size([1, 200])\n",
      "torch.Size([1, 200])\n",
      "joss.\n",
      "torch.Size([1, 200])\n",
      "torch.Size([1, 200])\n",
      "torch.Size([1, 200])\n",
      "torch.Size([1, 200])\n",
      "torch.Size([1, 200])\n",
      "torch.Size([1, 200])\n",
      "quinn.\n",
      "torch.Size([1, 200])\n",
      "torch.Size([1, 200])\n",
      "torch.Size([1, 200])\n",
      "torch.Size([1, 200])\n",
      "torch.Size([1, 200])\n",
      "torch.Size([1, 200])\n",
      "sulin.\n",
      "torch.Size([1, 200])\n",
      "torch.Size([1, 200])\n",
      "torch.Size([1, 200])\n",
      "torch.Size([1, 200])\n",
      "torch.Size([1, 200])\n",
      "torch.Size([1, 200])\n",
      "alian.\n",
      "torch.Size([1, 200])\n",
      "torch.Size([1, 200])\n",
      "torch.Size([1, 200])\n",
      "torch.Size([1, 200])\n",
      "torch.Size([1, 200])\n",
      "torch.Size([1, 200])\n",
      "torch.Size([1, 200])\n",
      "torch.Size([1, 200])\n",
      "torch.Size([1, 200])\n",
      "torch.Size([1, 200])\n",
      "torch.Size([1, 200])\n",
      "torch.Size([1, 200])\n",
      "torch.Size([1, 200])\n",
      "quinathoniel.\n",
      "torch.Size([1, 200])\n",
      "torch.Size([1, 200])\n",
      "torch.Size([1, 200])\n",
      "torch.Size([1, 200])\n",
      "yii.\n"
     ]
    }
   ],
   "source": [
    "# sample from the model\n",
    "g = torch.Generator().manual_seed(2147483647 + 10)\n",
    "\n",
    "for _ in range(20):\n",
    "    \n",
    "    out = []\n",
    "    context = [0] * block_size # initialize with all ...\n",
    "    while True:\n",
    "      emb = C[torch.tensor([context])] # (1,block_size,d)\n",
    "      h = torch.tanh(emb.view(1, -1) @ W1 + b1)\n",
    "      #print(h.shape)\n",
    "      logits = h @ W2 + b2\n",
    "      probs = F.softmax(logits, dim=1)\n",
    "      ix = torch.multinomial(probs, num_samples=1, generator=g).item()\n",
    "      context = context[1:] + [ix]\n",
    "      out.append(ix)\n",
    "      if ix == 0:\n",
    "        break\n",
    "    \n",
    "    print(''.join(itos[i] for i in out))"
   ]
  },
  {
   "cell_type": "code",
   "execution_count": null,
   "metadata": {
    "id": "iwENKZS7dT_5"
   },
   "outputs": [],
   "source": []
  }
 ],
 "metadata": {
  "colab": {
   "provenance": []
  },
  "kernelspec": {
   "display_name": "Python 3 (ipykernel)",
   "language": "python",
   "name": "python3"
  },
  "language_info": {
   "codemirror_mode": {
    "name": "ipython",
    "version": 3
   },
   "file_extension": ".py",
   "mimetype": "text/x-python",
   "name": "python",
   "nbconvert_exporter": "python",
   "pygments_lexer": "ipython3",
   "version": "3.9.14"
  }
 },
 "nbformat": 4,
 "nbformat_minor": 1
}
